{
 "cells": [
  {
   "cell_type": "markdown",
   "metadata": {},
   "source": [
    "# Assignment 1: Chinese character \"detection\"\n",
    "LT2326, Autumn 2021\n",
    "\n",
    "Name: Max Boholm (gusbohom)"
   ]
  },
  {
   "cell_type": "markdown",
   "metadata": {},
   "source": [
    "# Introduction"
   ]
  },
  {
   "cell_type": "markdown",
   "metadata": {},
   "source": [
    "This notebook cotains the code for *Assignment 1: Chinese character \"detection\"* for the course *Machine learning for statistical NLP: Advanced* (course code LT2326), Autumn 2021. The notebook is organized into the folowing parts:\n",
    "\n",
    "*    Meta variables (the term *hyperparameter* is here reserved for decisions on the models), which define ... the loacation (path) of the data, ... \n",
    "*    Data preparation\n",
    "*    Definition and training of two models\n",
    "*    Testing and evaluation\n",
    "*    ...\n",
    "\n",
    "\n"
   ]
  },
  {
   "cell_type": "markdown",
   "metadata": {},
   "source": [
    "# Libraries"
   ]
  },
  {
   "cell_type": "code",
   "execution_count": 1,
   "metadata": {},
   "outputs": [],
   "source": [
    "import glob\n",
    "import json\n",
    "import random\n",
    "import operator\n",
    "\n",
    "from PIL import Image\n",
    "import numpy as np\n",
    "#import pandas as pd\n",
    "from sklearn.preprocessing import StandardScaler\n",
    "import matplotlib.path as mplpath\n",
    "import matplotlib.pyplot as plt\n",
    "from matplotlib.patches import Polygon\n",
    "\n",
    "import torch\n",
    "import torch.nn as nn\n",
    "import torch.nn.functional as F\n",
    "import torch.optim as optim"
   ]
  },
  {
   "cell_type": "markdown",
   "metadata": {},
   "source": [
    "# Meta variables"
   ]
  },
  {
   "cell_type": "code",
   "execution_count": 2,
   "metadata": {},
   "outputs": [],
   "source": [
    "path = \"../../../../../scratch/lt2326-h21/a1/\"\n",
    "#path = \"../develop_util/\"\n",
    "images_dir = path + \"images/\"      # the directory of images to be data\n",
    "meta_ctw   = path + \"info.json\"   # the (path to) the general meta file of CTW \n",
    "meta_train = path + \"train.jsonl\" # the (path to) the file containing the annotations of CTW training data\n",
    "\n",
    "#shortcut_to_prepared_data = \"prepared_data.pkl\"\n",
    "\n",
    "train_proportion = 0.7 # the proportion of training data; proportion of test data will be the complement of this number\n",
    "\n",
    "device = torch.device(\"cuda:1\")\n",
    "#device = torch.device('cpu')\n",
    "\n",
    "path_to_save_models = \"../models/\"\n",
    "path_to_save_evaluations = \"../evals/\"\n",
    "\n",
    "# For development purposes\n",
    "restriction = None # set to an integer, if subsample of the data is to be used in e.g. the development phase\n",
    "rescale_input_to = 80 # ...\n",
    "rescale_output_to = 80 # ..."
   ]
  },
  {
   "cell_type": "markdown",
   "metadata": {},
   "source": [
    "## Part 1: data preparation"
   ]
  },
  {
   "cell_type": "markdown",
   "metadata": {},
   "source": [
    "*Decision:* batching is kept as python `list` until feeding it to the model. *This means that the training procedure, e.g. the models, must convert the batces to tensors.* For models with \"linear input\", the function `flat_batch` is an example which helps us to do this."
   ]
  },
  {
   "cell_type": "markdown",
   "metadata": {},
   "source": [
    "### Definitions of functions"
   ]
  },
  {
   "cell_type": "code",
   "execution_count": 3,
   "metadata": {},
   "outputs": [],
   "source": [
    "def only_train(file_dir = images_dir, meta_file = meta_ctw):\n",
    "    \"\"\"Tests whether image files in a directory is part of the training set of the CTW dataset, \n",
    "       as defined by the json metafile for CTW. Returns a list of filenames such that they are both\n",
    "       in the specified directory and the CTW training set.\n",
    "    \"\"\"\n",
    "    meta = json.load(open(meta_file,\"r\"))\n",
    "    train_files_CTW = [entry[\"file_name\"] for entry in meta[\"train\"]]\n",
    "    files_to_keep = []\n",
    "    potential_files=[file.split(\"/\")[-1] for file in glob.glob(file_dir+\"*.jpg\")]\n",
    "    print(\"Potential files: \", len(potential_files))\n",
    "    \n",
    "    for file in potential_files:\n",
    "        if file in train_files_CTW:\n",
    "            files_to_keep.append(file)\n",
    "    \n",
    "    print(\"Kept files: \", len(files_to_keep))\n",
    "    \n",
    "    return files_to_keep\n",
    "\n",
    "def shorty(files, restriction = restriction):\n",
    "    \"\"\" Returns a shorter list of files picked by random.\n",
    "    \"\"\"\n",
    "    \n",
    "    if restriction != None:\n",
    "        print(\"Warning: Now you have made a restriction to \", restriction, \" files.\")\n",
    "        random.shuffle(files)\n",
    "        r_files = files[:restriction]\n",
    "    else:\n",
    "        print(\"No restriction was made, since it was not specified.\")\n",
    "        r_files = files\n",
    "    \n",
    "    return r_files\n",
    "        \n",
    "def CTW_mapper(files, meta = meta_train):\n",
    "    \"\"\" Identifies annotations for files from the training set of the CTW dataset. \n",
    "        Returns pyhoton dictionary that maps filenames (keys) with annotations (values), \n",
    "        which like in the original format is a list of lists of json elements / python dictinaries. \n",
    "    \"\"\"\n",
    "    mapping = {}\n",
    "    with open(meta, \"r\") as f:\n",
    "        annotations_data = [json.loads(line) for line in f.readlines()]\n",
    "        for file in files:\n",
    "            for annotation in annotations_data:\n",
    "                if annotation[\"image_id\"] == file[:-4]:\n",
    "                    mapping[file] = annotation[\"annotations\"]\n",
    "                    break\n",
    "    \n",
    "    return mapping\n",
    "                    \n",
    "def img2array(file, directory = images_dir, rescale = rescale_input_to):\n",
    "    \"\"\" Takes a filename of an image in a directory and returns an numpy array \n",
    "        corresponding to the image.\n",
    "    \"\"\"\n",
    "    img = Image.open(directory+file)\n",
    "    \n",
    "    if rescale != None:\n",
    "        img = img.resize((rescale, rescale))\n",
    "    \n",
    "    img_np = np.array(img)\n",
    "    \n",
    "    return img_np\n",
    "\n",
    "def grid(height = 2048, width = 2048, rescale = rescale_output_to):\n",
    "    \"\"\" Creates a grid (an array of coordinates) to be used in polygon2array \n",
    "        to speed things up.\n",
    "    \"\"\"\n",
    "    \n",
    "    if rescale != None:\n",
    "        height = rescale\n",
    "        width = rescale\n",
    "        \n",
    "    grid = np.array([[[h,w] for h in list(range(height))] for w in list(range(width))]).reshape(height*width, 2)\n",
    "    \n",
    "    return grid\n",
    "\n",
    "def polygon2array(file, mapping, grid, height = 2048, width = 2048, rescale = rescale_output_to):\n",
    "    \"\"\" Builds a matrix of 0s and 1s representing the character polygons as \n",
    "        defined by the coordinates of in the CTW annotations. \n",
    "    \"\"\"\n",
    "    \n",
    "    # THIS TAKES TOO LONG TIME!!!!!!!!!\n",
    "    \n",
    "    polygons = []\n",
    "    for block in mapping[file]: # mapping maps files with their annotations\n",
    "        for character in block:\n",
    "            if character[\"is_chinese\"] == True:\n",
    "                polygons.append(character[\"polygon\"])\n",
    "    #print(\"found all polygons\")\n",
    "    \n",
    "    if rescale != None:\n",
    "        rescale_by = rescale / height # must come first\n",
    "        height = rescale\n",
    "        width = rescale\n",
    "        polygons = [[[point * rescale_by for point in points] for points in set_of_points] for set_of_points in polygons]\n",
    "    \n",
    "    #print(\"start creation grid\")\n",
    "    \n",
    "    every_point = grid.copy()\n",
    "    \n",
    "    #every_point = np.array([[[h,w] for h in list(range(height))] for w in list(range(width))]).reshape(height*width, 2)\n",
    "    # CREATION OF THE GRID IS THE SLOW PART!! AS HEIGHT AND WIDTH BECOME LARGE THIS TAKES LONG TIME\n",
    "    \n",
    "    #print(\"created every point\")\n",
    "    zeros_to_update = np.zeros(height * width)\n",
    "    \n",
    "    #print(\"start iteration over polygons\")\n",
    "    for polygon in polygons:\n",
    "        path = mplpath.Path(np.array(polygon))\n",
    "        #print(\"created path\")\n",
    "        hits = np.asarray(path.contains_points(every_point), int)\n",
    "        #print(\"identified hits\")\n",
    "        zeros_to_update += hits\n",
    "        #print(\"updated zero_matrix\")\n",
    "        \n",
    "        #print(\"one polgon down\")\n",
    "    \n",
    "    matrix = zeros_to_update.reshape(height, width)\n",
    "    \n",
    "    return matrix\n",
    "\n",
    "def data_builder(files, directory, mapping):\n",
    "    \"\"\" Compiles the dataset for use. Returns a list of dictionaties, such that each\n",
    "        element of the list contains:\n",
    "        -  the filename; key: \"file\"\n",
    "        -  a vectorized instance of the training data; key: \"img_vector\"\n",
    "        -  a vectorized instance of the labels, or targets (a vector of 0s and 1s indicating \n",
    "           boxes of characters in images); key: \"label\"\n",
    "        \n",
    "        Note: (1) the format of instances (training input and targets) are numpy arrays; and\n",
    "        (2) the instances have \"matrix shape\". For these reasons, the output of the data_builder()\n",
    "        requires further processing for it to be ready for pytorch processing. The functions \n",
    "        standardizer() and numpy2torch() is does required further down the pipline of data\n",
    "        preprocessing.\n",
    "    \"\"\"\n",
    "    my_grid = grid()\n",
    "    data = []\n",
    "    i=1\n",
    "    for file in files: \n",
    "        #print(\"NEW FILE\")\n",
    "        instance = {}\n",
    "        instance[\"file\"] = file\n",
    "        instance[\"img_vector\"] = img2array(file)\n",
    "        #print(\"img2array done\")\n",
    "        #instance[\"label\"] = bbox2array(file, mapping)\n",
    "        instance[\"label\"] = polygon2array(file, mapping, grid = my_grid)\n",
    "        #print(\"polygon2array done\")\n",
    "        data.append(instance)\n",
    "        print(\"{}% done.\".format(round((i/len(files))*100, 1)), end=\"\\r\")\n",
    "        i+=1\n",
    "    \n",
    "    # data = pd.DataFrame(data) \n",
    "    # --- What is the real benefit of this? The file will be too big.\n",
    "    \n",
    "    return data\n",
    "\n",
    "def standardizer(dataset, scaler = StandardScaler()):\n",
    "    \"\"\" Standardizes the image vectors of a dataset to z-scores using StandardScaler() \n",
    "        from the library sklearn.preprocessing. \n",
    "    \"\"\"\n",
    "    \n",
    "    std_data = []\n",
    "    #N = len(dataset)\n",
    "    example = dataset[0][\"img_vector\"]\n",
    "    x, y, z = example.shape\n",
    "    n_features = example.size # ... or x * y * z\n",
    "    \n",
    "    for instance in dataset:\n",
    "        std_data.append(instance[\"img_vector\"].reshape(n_features))\n",
    "    \n",
    "    scaled_data = scaler.fit_transform(std_data)\n",
    "    \n",
    "    for i, scaled_ins in enumerate(scaled_data):\n",
    "        dataset[i][\"img_vector\"] = scaled_ins.reshape(x, y, z)\n",
    "\n",
    "def numpy2torch(dataset, device = device, permute = True):\n",
    "    \"\"\" For a dataset, transforms its numpy arrays to torch tensors. If permute = True,\n",
    "        image vectors are permuted such that ... \n",
    "    \"\"\"\n",
    "    \n",
    "    #print(\"Shape of vector before: \", dataset[0][\"img_vector\"].shape)\n",
    "    \n",
    "    for instance in dataset:\n",
    "        if permute == True: # ... hmmm \n",
    "            instance[\"img_vector\"] = torch.tensor(instance[\"img_vector\"], dtype=torch.float, device = device).permute(2,0,1)\n",
    "        else:\n",
    "            instance[\"img_vector\"] = torch.tensor(instance[\"img_vector\"], dtype=torch.float, device = device)\n",
    "        instance[\"label\"] = torch.tensor(instance[\"label\"], dtype=torch.float, device = device)\n",
    "    \n",
    "    #print(\"Shape of vector after: \", dataset[0][\"img_vector\"].shape)\n"
   ]
  },
  {
   "cell_type": "markdown",
   "metadata": {},
   "source": [
    "### Calling functions: creating the overall dataset"
   ]
  },
  {
   "cell_type": "code",
   "execution_count": 4,
   "metadata": {},
   "outputs": [
    {
     "name": "stdout",
     "output_type": "stream",
     "text": [
      "Potential files:  1000\n",
      "Kept files:  845\n"
     ]
    }
   ],
   "source": [
    "files = only_train()"
   ]
  },
  {
   "cell_type": "code",
   "execution_count": 5,
   "metadata": {},
   "outputs": [
    {
     "data": {
      "text/plain": [
       "845"
      ]
     },
     "execution_count": 5,
     "metadata": {},
     "output_type": "execute_result"
    }
   ],
   "source": [
    "len(files)"
   ]
  },
  {
   "cell_type": "code",
   "execution_count": 6,
   "metadata": {},
   "outputs": [
    {
     "name": "stdout",
     "output_type": "stream",
     "text": [
      "No restriction was made, since it was not specified.\n"
     ]
    }
   ],
   "source": [
    "files = shorty(files)"
   ]
  },
  {
   "cell_type": "code",
   "execution_count": 7,
   "metadata": {},
   "outputs": [
    {
     "data": {
      "text/plain": [
       "845"
      ]
     },
     "execution_count": 7,
     "metadata": {},
     "output_type": "execute_result"
    }
   ],
   "source": [
    "len(files)"
   ]
  },
  {
   "cell_type": "code",
   "execution_count": 8,
   "metadata": {},
   "outputs": [],
   "source": [
    "mapping = CTW_mapper(files)"
   ]
  },
  {
   "cell_type": "code",
   "execution_count": 9,
   "metadata": {
    "scrolled": true
   },
   "outputs": [
    {
     "name": "stdout",
     "output_type": "stream",
     "text": [
      "100.0% done.\r"
     ]
    }
   ],
   "source": [
    "my_data = data_builder(files, images_dir, mapping)"
   ]
  },
  {
   "cell_type": "markdown",
   "metadata": {},
   "source": [
    "**Save & Load** (problems)"
   ]
  },
  {
   "cell_type": "code",
   "execution_count": null,
   "metadata": {},
   "outputs": [],
   "source": [
    "my_data.to_pickle(shortcut_to_prepared_data) #this creates monsters!!!!"
   ]
  },
  {
   "cell_type": "code",
   "execution_count": null,
   "metadata": {
    "scrolled": true
   },
   "outputs": [],
   "source": [
    "my_data = pd.read_pickle(shortcut_to_prepared_data)"
   ]
  },
  {
   "cell_type": "code",
   "execution_count": null,
   "metadata": {},
   "outputs": [],
   "source": [
    "# back to dict?\n",
    "my_data = my_data.to_dict(\"records\")"
   ]
  },
  {
   "cell_type": "markdown",
   "metadata": {},
   "source": [
    "-------"
   ]
  },
  {
   "cell_type": "code",
   "execution_count": 10,
   "metadata": {},
   "outputs": [],
   "source": [
    "standardizer(my_data)"
   ]
  },
  {
   "cell_type": "code",
   "execution_count": 11,
   "metadata": {},
   "outputs": [],
   "source": [
    "numpy2torch(my_data)"
   ]
  },
  {
   "cell_type": "markdown",
   "metadata": {},
   "source": [
    "### Splitting the dataset into train and test sets"
   ]
  },
  {
   "cell_type": "code",
   "execution_count": 12,
   "metadata": {},
   "outputs": [],
   "source": [
    "def split(data       = my_data, \n",
    "          train_prop = train_proportion, \n",
    "          val_prop   = None):\n",
    "    \"\"\" Splits a dataset into training data, testing data and, if selected,\n",
    "        validation data. Note that the proportions of training data, test data\n",
    "        and validation data (optional) must not exceed 100%. \n",
    "    \"\"\"\n",
    "    \n",
    "    if val_prop != None:\n",
    "        train_to_idx = int(len(data) * train_prop)\n",
    "        val_to_idx   = int(len(data) * val_prop) + train_to_idx\n",
    "        train = data[:train_to_idx]\n",
    "        val   = data[train_to_idx:val_to_idx]\n",
    "        test  = data[val_to_idx:]\n",
    "        return train, val, test\n",
    "    else:\n",
    "        train_to_idx = int(len(data) * train_prop)\n",
    "        train = data[:train_to_idx]\n",
    "        test  = data[train_to_idx:]\n",
    "        return train, test"
   ]
  },
  {
   "cell_type": "code",
   "execution_count": 13,
   "metadata": {},
   "outputs": [],
   "source": [
    "train_set, test_set = split() #val?"
   ]
  },
  {
   "cell_type": "markdown",
   "metadata": {},
   "source": [
    "### Defining a dataloader\n",
    "In training, the function `dataloader` will be called with the `train_set` as argument in every iteration (epoch) yielding  randomized and batched traing inputs."
   ]
  },
  {
   "cell_type": "code",
   "execution_count": 14,
   "metadata": {},
   "outputs": [],
   "source": [
    "def dataloader(data, batch_size):\n",
    "    \"\"\" Takes a (proportion of) a dataset and returns a randomized iterator \n",
    "        of the data organized into batches as defined by batch_size.\n",
    "        \n",
    "        Note: the dataloader preserves the \"matrix shape\" of trainingdata and \n",
    "        targets. Since pytorch neural networks require \"flat\" shapes of data\n",
    "        the function flat_batch() is used to let data flow trough training\n",
    "        in the desired format. \n",
    "    \"\"\"\n",
    "    \n",
    "    random.shuffle(data)\n",
    "    \n",
    "    for group in [data[i : i+batch_size] for i in range(0, len(data), batch_size)]:\n",
    "        files = []\n",
    "        img_vecs = []\n",
    "        labels = []\n",
    "\n",
    "        for instance in group:\n",
    "            files.append(instance[\"file\"])\n",
    "            img_vecs.append(instance[\"img_vector\"])\n",
    "            labels.append(instance[\"label\"])\n",
    "\n",
    "        batch = {\"file\":files, \n",
    "                 \"img_vector\":img_vecs, \n",
    "                 \"label\":labels}\n",
    "    yield batch"
   ]
  },
  {
   "cell_type": "markdown",
   "metadata": {},
   "source": [
    "### Checking"
   ]
  },
  {
   "cell_type": "code",
   "execution_count": null,
   "metadata": {},
   "outputs": [],
   "source": [
    "my_data[0]"
   ]
  },
  {
   "cell_type": "markdown",
   "metadata": {},
   "source": [
    "## Part 2: the models"
   ]
  },
  {
   "cell_type": "markdown",
   "metadata": {},
   "source": [
    "### General traing procedure"
   ]
  },
  {
   "cell_type": "code",
   "execution_count": 15,
   "metadata": {},
   "outputs": [],
   "source": [
    "def flat_batch(batch):\n",
    "    \"\"\"Takes a python list of length B of more-than-one dimensional tensors (N, M, ...) and \n",
    "    returns a tensor of shape: (B, M*N*...)...\"\"\"\n",
    "    \n",
    "    return torch.stack([torch.flatten(instance) for instance in batch])\n",
    "\n",
    "# do we need device assignation here?"
   ]
  },
  {
   "cell_type": "code",
   "execution_count": 16,
   "metadata": {},
   "outputs": [],
   "source": [
    "def trainer(model, # Must be an instance of a model!\n",
    "            name_of_model,\n",
    "            learning_rate,\n",
    "            epochs,\n",
    "            batch_size,\n",
    "            train_data = train_set,\n",
    "            val_data = None,\n",
    "            save_model = False,\n",
    "            directory = path_to_save_models,\n",
    "            my_optimizer = optim.Adam,\n",
    "            my_loss_function = nn.BCELoss()):\n",
    "    \"\"\" Specifices a general training procedure for a model. \n",
    "        Note: trainer() requires an instantiated model as model argument. \n",
    "    \"\"\"\n",
    "    \n",
    "    optimizer = my_optimizer(model.parameters(), lr=learning_rate)    \n",
    "    \n",
    "    #model = my_model\n",
    "    model.to(device)\n",
    "    model.train()\n",
    "    \n",
    "    loss_function = my_loss_function\n",
    "    \n",
    "    #total_loss = 0\n",
    "    \n",
    "    for epoch in range(epochs):\n",
    "        epoch_loss = 0\n",
    "        \n",
    "        iterator = dataloader(train_set, batch_size)\n",
    "        for i, batch in enumerate(iterator):\n",
    "            \n",
    "            output = model(batch[\"img_vector\"])\n",
    "            targets = flat_batch(batch[\"label\"])\n",
    "            \n",
    "            loss = loss_function(output, targets)\n",
    "            \n",
    "            #total_loss += loss.item()\n",
    "            epoch_loss += loss.item()\n",
    "            #print(\"Epoch: \", epoch+1, \"Batch: \", i, \"Total loss: \", total_loss/(i+1), end='\\r')\n",
    "            loss.backward() # compute gradients\n",
    "            optimizer.step() # update parameters\n",
    "            optimizer.zero_grad # reset gradients\n",
    "            \n",
    "        #print()\n",
    "        print(f\"Epoch: {epoch+1} (out of {epochs}); total loss: {epoch_loss}.\")\n",
    "\n",
    "            \n",
    "        if val_data != None:\n",
    "            model.eval()\n",
    "            \n",
    "            # HERE WE COULD DO SOMETHING\n",
    "            \n",
    "            model.train()\n",
    "            \n",
    "    if save_model == True:\n",
    "        torch.save(model, directory+name_of_model+\".pt\")"
   ]
  },
  {
   "cell_type": "markdown",
   "metadata": {},
   "source": [
    "### Model 0: Simple Model"
   ]
  },
  {
   "cell_type": "markdown",
   "metadata": {},
   "source": [
    "This is a very simple model, basically passing data from input to output. It is **used for development reasons only**. I have kept it here as it might become useful for future development, but *it can be ignored for examination of Assignment 1*."
   ]
  },
  {
   "cell_type": "markdown",
   "metadata": {},
   "source": [
    "#### Model defintion"
   ]
  },
  {
   "cell_type": "code",
   "execution_count": null,
   "metadata": {},
   "outputs": [],
   "source": [
    "class SimpleModel(nn.Module):\n",
    "    def __init__(self, inp, hidden, outp):  \n",
    "        super(SimpleModel, self).__init__()\n",
    "        \n",
    "        self.layer1 = nn.Linear(inp, hidden)\n",
    "        self.classifier = nn.Linear(hidden, outp)\n",
    "  \n",
    "    def forward(self, batch): \n",
    "        if isinstance(batch, list):    # ad hoc, but works for now\n",
    "            batch = flat_batch(batch)\n",
    "        else:\n",
    "            batch = torch.flatten(batch)\n",
    "        compression = F.relu(self.layer1(batch))\n",
    "        output = torch.sigmoid(self.classifier(compression))\n",
    "        \n",
    "        return output"
   ]
  },
  {
   "cell_type": "markdown",
   "metadata": {},
   "source": [
    "#### Training and saving model"
   ]
  },
  {
   "cell_type": "code",
   "execution_count": null,
   "metadata": {},
   "outputs": [],
   "source": [
    "shape_of_input = my_data[0][\"img_vector\"].shape\n",
    "input_size = shape_of_input[0] * shape_of_input[1] * shape_of_input[2]\n",
    "shape_of_output = my_data[0][\"label\"].shape\n",
    "output_size = shape_of_output[0] * shape_of_output[1]\n",
    "\n",
    "#print(shape_of_input)\n",
    "#print(shape_of_output)\n",
    "\n",
    "my_simple_model = SimpleModel(inp=input_size, hidden=100, outp=output_size)"
   ]
  },
  {
   "cell_type": "code",
   "execution_count": null,
   "metadata": {},
   "outputs": [],
   "source": [
    "nepochs = 100\n",
    "batchsz = 128\n",
    "name = \"Simple_{}e{}b\".format(nepochs, batchsz)\n",
    "\n",
    "trainer(my_simple_model, # Must be an instance of a model!\n",
    "        name,\n",
    "        learning_rate=0.005,\n",
    "        epochs=nepochs,\n",
    "        batch_size=batchsz,\n",
    "        save_model = True)"
   ]
  },
  {
   "cell_type": "markdown",
   "metadata": {},
   "source": [
    "### Model 1: Diabolo Autoencoder"
   ]
  },
  {
   "cell_type": "markdown",
   "metadata": {},
   "source": [
    "#### Model definition"
   ]
  },
  {
   "cell_type": "code",
   "execution_count": 34,
   "metadata": {},
   "outputs": [],
   "source": [
    "# reconsider term \"dilation\"\n",
    "\n",
    "class DiaboloModel(nn.Module):\n",
    "    def __init__(self, inp, outp):   \n",
    "        super(DiaboloModel, self).__init__()\n",
    "        \n",
    "        self.input = inp\n",
    "        self.output = outp\n",
    "        \n",
    "        self.compression1 = int(self.input / 2)\n",
    "        self.compression2 = int(self.input / 4)\n",
    "        self.compression3 = int(self.input / 8)\n",
    "        self.compression4 = int(self.input / 16)\n",
    "        self.compression5 = int(self.input / 32)\n",
    "        # self.compression6 = int(self.input / 64)\n",
    "        \n",
    "        self.expansion1 = int(self.output / 8)\n",
    "        self.expansion2 = int(self.output / 4)\n",
    "        self.expansion3 = int(self.output / 2)\n",
    "        \n",
    "        self.encoder = nn.Sequential(\n",
    "            nn.Linear(self.input, self.compression1),\n",
    "            nn.ReLU(),\n",
    "            nn.Linear(self.compression1, self.compression2),\n",
    "            nn.ReLU(),           \n",
    "            nn.Linear(self.compression2, self.compression3),\n",
    "            nn.ReLU(),\n",
    "            nn.Linear(self.compression3, self.compression4),\n",
    "            nn.ReLU(),\n",
    "            nn.Linear(self.compression4, self.compression5),\n",
    "            nn.ReLU()\n",
    "#             nn.Linear(self.compression5, self.compression6),\n",
    "#             nn.ReLU()\n",
    "                     )\n",
    "\n",
    "        self.decoder = nn.Sequential(\n",
    "            nn.Linear(self.compression5, self.expansion1),\n",
    "            #nn.Dropout(0.05),\n",
    "            nn.ReLU(),\n",
    "            nn.Linear(self.expansion1, self.expansion2),\n",
    "            nn.ReLU(),            \n",
    "            nn.Linear(self.expansion2, self.expansion3),\n",
    "            nn.ReLU(),\n",
    "            nn.Linear(self.expansion3, self.output),\n",
    "            nn.Sigmoid()\n",
    "        )\n",
    " \n",
    "    def forward(self, batch): \n",
    "        if isinstance(batch, list):    # to handle evaluation set, which is not batched; ad hoc, but works for now\n",
    "            batch = flat_batch(batch)\n",
    "        else:\n",
    "            batch = torch.flatten(batch)\n",
    "        encoded = self.encoder(batch)\n",
    "        decoded = self.decoder(encoded)\n",
    "        \n",
    "        return decoded"
   ]
  },
  {
   "cell_type": "markdown",
   "metadata": {},
   "source": [
    "#### Training and saving model"
   ]
  },
  {
   "cell_type": "code",
   "execution_count": 35,
   "metadata": {},
   "outputs": [],
   "source": [
    "shape_of_input = my_data[0][\"img_vector\"].shape\n",
    "input_size = shape_of_input[0] * shape_of_input[1] * shape_of_input[2]\n",
    "shape_of_output = my_data[0][\"label\"].shape\n",
    "output_size = shape_of_output[0] * shape_of_output[1]\n",
    "\n",
    "#print(shape_of_input)\n",
    "#print(shape_of_output)\n",
    "\n",
    "my_diabolo_model = DiaboloModel(inp=input_size, outp=output_size)"
   ]
  },
  {
   "cell_type": "code",
   "execution_count": 36,
   "metadata": {},
   "outputs": [
    {
     "data": {
      "text/plain": [
       "<bound method Module.parameters of DiaboloModel(\n",
       "  (encoder): Sequential(\n",
       "    (0): Linear(in_features=19200, out_features=9600, bias=True)\n",
       "    (1): ReLU()\n",
       "    (2): Linear(in_features=9600, out_features=4800, bias=True)\n",
       "    (3): ReLU()\n",
       "    (4): Linear(in_features=4800, out_features=2400, bias=True)\n",
       "    (5): ReLU()\n",
       "    (6): Linear(in_features=2400, out_features=1200, bias=True)\n",
       "    (7): ReLU()\n",
       "    (8): Linear(in_features=1200, out_features=600, bias=True)\n",
       "    (9): ReLU()\n",
       "  )\n",
       "  (decoder): Sequential(\n",
       "    (0): Linear(in_features=600, out_features=800, bias=True)\n",
       "    (1): ReLU()\n",
       "    (2): Linear(in_features=800, out_features=1600, bias=True)\n",
       "    (3): ReLU()\n",
       "    (4): Linear(in_features=1600, out_features=3200, bias=True)\n",
       "    (5): ReLU()\n",
       "    (6): Linear(in_features=3200, out_features=6400, bias=True)\n",
       "    (7): Sigmoid()\n",
       "  )\n",
       ")>"
      ]
     },
     "execution_count": 36,
     "metadata": {},
     "output_type": "execute_result"
    }
   ],
   "source": [
    "my_diabolo_model.parameters"
   ]
  },
  {
   "cell_type": "code",
   "execution_count": 37,
   "metadata": {},
   "outputs": [
    {
     "name": "stdout",
     "output_type": "stream",
     "text": [
      "Epoch: 1 (out of 100); total loss: 0.6931902766227722.\n",
      "Epoch: 2 (out of 100); total loss: 0.4875395596027374.\n",
      "Epoch: 3 (out of 100); total loss: 0.4697389304637909.\n",
      "Epoch: 4 (out of 100); total loss: 0.4375.\n",
      "Epoch: 5 (out of 100); total loss: 0.5385680198669434.\n",
      "Epoch: 6 (out of 100); total loss: 0.4671677350997925.\n",
      "Epoch: 7 (out of 100); total loss: 0.5203718543052673.\n",
      "Epoch: 8 (out of 100); total loss: 0.5146360993385315.\n",
      "Epoch: 9 (out of 100); total loss: 0.494066447019577.\n",
      "Epoch: 10 (out of 100); total loss: 0.5249208807945251.\n",
      "Epoch: 11 (out of 100); total loss: 0.38943830132484436.\n",
      "Epoch: 12 (out of 100); total loss: 0.359968364238739.\n",
      "Epoch: 13 (out of 100); total loss: 0.431566447019577.\n",
      "Epoch: 14 (out of 100); total loss: 0.4823971688747406.\n",
      "Epoch: 15 (out of 100); total loss: 0.47092562913894653.\n",
      "Epoch: 16 (out of 100); total loss: 0.4677610695362091.\n",
      "Epoch: 17 (out of 100); total loss: 0.4636076092720032.\n",
      "Epoch: 18 (out of 100); total loss: 0.5441060066223145.\n",
      "Epoch: 19 (out of 100); total loss: 0.5549841523170471.\n",
      "Epoch: 20 (out of 100); total loss: 0.4167326092720032.\n",
      "Epoch: 21 (out of 100); total loss: 0.44936710596084595.\n",
      "Epoch: 22 (out of 100); total loss: 0.4430379867553711.\n",
      "Epoch: 23 (out of 100); total loss: 0.532436728477478.\n",
      "Epoch: 24 (out of 100); total loss: 0.5543908476829529.\n",
      "Epoch: 25 (out of 100); total loss: 0.6097705960273743.\n",
      "Epoch: 26 (out of 100); total loss: 0.4515427350997925.\n",
      "Epoch: 27 (out of 100); total loss: 0.45292723178863525.\n",
      "Epoch: 28 (out of 100); total loss: 0.5061313509941101.\n",
      "Epoch: 29 (out of 100); total loss: 0.48259493708610535.\n",
      "Epoch: 30 (out of 100); total loss: 0.5001977682113647.\n",
      "Epoch: 31 (out of 100); total loss: 0.5247231125831604.\n",
      "Epoch: 32 (out of 100); total loss: 0.4729034900665283.\n",
      "Epoch: 33 (out of 100); total loss: 0.4727056920528412.\n",
      "Epoch: 34 (out of 100); total loss: 0.4758702516555786.\n",
      "Epoch: 35 (out of 100); total loss: 0.4606408178806305.\n",
      "Epoch: 36 (out of 100); total loss: 0.4748813211917877.\n",
      "Epoch: 37 (out of 100); total loss: 0.5909810066223145.\n",
      "Epoch: 38 (out of 100); total loss: 0.49564874172210693.\n",
      "Epoch: 39 (out of 100); total loss: 0.5502373576164246.\n",
      "Epoch: 40 (out of 100); total loss: 0.4556961953639984.\n",
      "Epoch: 41 (out of 100); total loss: 0.46657437086105347.\n",
      "Epoch: 42 (out of 100); total loss: 0.43215981125831604.\n",
      "Epoch: 43 (out of 100); total loss: 0.48457279801368713.\n",
      "Epoch: 44 (out of 100); total loss: 0.4645965099334717.\n",
      "Epoch: 45 (out of 100); total loss: 0.5626977682113647.\n",
      "Epoch: 46 (out of 100); total loss: 0.39893195033073425.\n",
      "Epoch: 47 (out of 100); total loss: 0.3811313211917877.\n",
      "Epoch: 48 (out of 100); total loss: 0.546281635761261.\n",
      "Epoch: 49 (out of 100); total loss: 0.41159018874168396.\n",
      "Epoch: 50 (out of 100); total loss: 0.4339398741722107.\n",
      "Epoch: 51 (out of 100); total loss: 0.4814082384109497.\n",
      "Epoch: 52 (out of 100); total loss: 0.46242088079452515.\n",
      "Epoch: 53 (out of 100); total loss: 0.5969145894050598.\n",
      "Epoch: 54 (out of 100); total loss: 0.5806962251663208.\n",
      "Epoch: 55 (out of 100); total loss: 0.405656635761261.\n",
      "Epoch: 56 (out of 100); total loss: 0.5213607549667358.\n",
      "Epoch: 57 (out of 100); total loss: 0.5267009735107422.\n",
      "Epoch: 58 (out of 100); total loss: 0.5496439933776855.\n",
      "Epoch: 59 (out of 100); total loss: 0.6319224834442139.\n",
      "Epoch: 60 (out of 100); total loss: 0.4319620430469513.\n",
      "Epoch: 61 (out of 100); total loss: 0.4626186788082123.\n",
      "Epoch: 62 (out of 100); total loss: 0.4313686788082123.\n",
      "Epoch: 63 (out of 100); total loss: 0.47606804966926575.\n",
      "Epoch: 64 (out of 100); total loss: 0.45747625827789307.\n",
      "Epoch: 65 (out of 100); total loss: 0.49920886754989624.\n",
      "Epoch: 66 (out of 100); total loss: 0.5110759735107422.\n",
      "Epoch: 67 (out of 100); total loss: 0.48516613245010376.\n",
      "Epoch: 68 (out of 100); total loss: 0.47863924503326416.\n",
      "Epoch: 69 (out of 100); total loss: 0.4378955662250519.\n",
      "Epoch: 70 (out of 100); total loss: 0.43868669867515564.\n",
      "Epoch: 71 (out of 100); total loss: 0.5470727682113647.\n",
      "Epoch: 72 (out of 100); total loss: 0.5314477682113647.\n",
      "Epoch: 73 (out of 100); total loss: 0.34137657284736633.\n",
      "Epoch: 74 (out of 100); total loss: 0.44382911920547485.\n",
      "Epoch: 75 (out of 100); total loss: 0.3941851258277893.\n",
      "Epoch: 76 (out of 100); total loss: 0.4827927350997925.\n",
      "Epoch: 77 (out of 100); total loss: 0.49268198013305664.\n",
      "Epoch: 78 (out of 100); total loss: 0.4895174205303192.\n",
      "Epoch: 79 (out of 100); total loss: 0.38172468543052673.\n",
      "Epoch: 80 (out of 100); total loss: 0.48457279801368713.\n",
      "Epoch: 81 (out of 100); total loss: 0.46894779801368713.\n",
      "Epoch: 82 (out of 100); total loss: 0.4645965099334717.\n",
      "Epoch: 83 (out of 100); total loss: 0.5055379867553711.\n",
      "Epoch: 84 (out of 100); total loss: 0.5520173907279968.\n",
      "Epoch: 85 (out of 100); total loss: 0.611155092716217.\n",
      "Epoch: 86 (out of 100); total loss: 0.4742879867553711.\n",
      "Epoch: 87 (out of 100); total loss: 0.4349288046360016.\n",
      "Epoch: 88 (out of 100); total loss: 0.5356012582778931.\n",
      "Epoch: 89 (out of 100); total loss: 0.4875395596027374.\n",
      "Epoch: 90 (out of 100); total loss: 0.4960443079471588.\n",
      "Epoch: 91 (out of 100); total loss: 0.43631330132484436.\n",
      "Epoch: 92 (out of 100); total loss: 0.49564874172210693.\n",
      "Epoch: 93 (out of 100); total loss: 0.5257120132446289.\n",
      "Epoch: 94 (out of 100); total loss: 0.548655092716217.\n",
      "Epoch: 95 (out of 100); total loss: 0.4717167615890503.\n",
      "Epoch: 96 (out of 100); total loss: 0.4133702516555786.\n",
      "Epoch: 97 (out of 100); total loss: 0.4980221688747406.\n",
      "Epoch: 98 (out of 100); total loss: 0.38587817549705505.\n",
      "Epoch: 99 (out of 100); total loss: 0.400316447019577.\n",
      "Epoch: 100 (out of 100); total loss: 0.5197784900665283.\n"
     ]
    }
   ],
   "source": [
    "nepochs = 100\n",
    "batchsz = 128\n",
    "db_name = \"Diab_{}e{}b\".format(nepochs, batchsz)\n",
    "\n",
    "trainer(my_diabolo_model, # Must be an instance of a model!\n",
    "        db_name,\n",
    "        learning_rate=0.005,\n",
    "        epochs=nepochs,\n",
    "        batch_size=batchsz,\n",
    "        save_model = True)"
   ]
  },
  {
   "cell_type": "markdown",
   "metadata": {},
   "source": [
    "### Model 2.1: Convolutional Model"
   ]
  },
  {
   "cell_type": "markdown",
   "metadata": {},
   "source": [
    "#### Model definition"
   ]
  },
  {
   "cell_type": "code",
   "execution_count": 38,
   "metadata": {},
   "outputs": [],
   "source": [
    "class ConvModel(nn.Module):\n",
    "    def __init__(self, inp_height, inp_width, outp):   \n",
    "        super(ConvModel, self).__init__()\n",
    "        \n",
    "        self.height = inp_height\n",
    "        self.width = inp_width\n",
    "        \n",
    "        self.exit_input = self.height * self.width * 3 \n",
    "        # 3 for channels\n",
    "        \n",
    "        # ... plus operation to acount for pooling stuff\n",
    "        \n",
    "        self.output = outp\n",
    "        self.exit_hidden = int(self.exit_input / 2)\n",
    "\n",
    "        \n",
    "        self.convolution1 = nn.Sequential(\n",
    "            nn.Conv2d(in_channels = 3,     # 3 channels in (RGB\n",
    "                      out_channels = 3, \n",
    "                      kernel_size = 7,     # window of 3x3\n",
    "                      stride = 1, \n",
    "                      padding = \"same\"), \n",
    "            nn.BatchNorm2d(3),\n",
    "            nn.ReLU(),\n",
    "            #nn.MaxPool2d(2, 2), # 2x2 window with stride of 2\n",
    "        )\n",
    "        \n",
    "        self.exit = nn.Sequential(\n",
    "            nn.Linear(self.exit_input, self.exit_hidden),\n",
    "            nn.Dropout(0.05),\n",
    "            nn.Tanh(),\n",
    "            nn.Linear(self.exit_hidden, self.output),\n",
    "            nn.Sigmoid()\n",
    "        )\n",
    "        \n",
    "    def forward(self, batch):\n",
    "        if isinstance(batch, list):    # to handle evaluation set, which is not batched; ad hoc, but works for now\n",
    "            batch = torch.stack(batch) # device?\n",
    "        else:\n",
    "            batch = torch.stack([batch])\n",
    "        \n",
    "        #print(batch.shape)\n",
    "        features = self.convolution1(batch)\n",
    "        \n",
    "        \n",
    "        \n",
    "        size_of_batch = features.shape[0]\n",
    "        features_flat = features.reshape(size_of_batch, self.exit_input)\n",
    "        output = self.exit(features_flat)\n",
    "        return output\n",
    "\n",
    "\n"
   ]
  },
  {
   "cell_type": "markdown",
   "metadata": {},
   "source": [
    "#### Training and saving model"
   ]
  },
  {
   "cell_type": "code",
   "execution_count": 39,
   "metadata": {},
   "outputs": [
    {
     "name": "stdout",
     "output_type": "stream",
     "text": [
      "6400\n"
     ]
    }
   ],
   "source": [
    "shape_of_input = my_data[0][\"img_vector\"].shape\n",
    "height = shape_of_input[1]\n",
    "width = shape_of_input[2]\n",
    "shape_of_output = my_data[0][\"label\"].shape\n",
    "output_size = shape_of_output[0] * shape_of_output[1]\n",
    "\n",
    "# print(shape_of_input)\n",
    "# print(shape_of_output)\n",
    "print(output_size)\n",
    "\n",
    "my_conv_model = ConvModel(inp_height = height, inp_width = width, outp = output_size)\n"
   ]
  },
  {
   "cell_type": "code",
   "execution_count": 40,
   "metadata": {
    "scrolled": true
   },
   "outputs": [
    {
     "data": {
      "text/plain": [
       "<bound method Module.parameters of ConvModel(\n",
       "  (convolution): Sequential(\n",
       "    (0): Conv2d(3, 3, kernel_size=(7, 7), stride=(1, 1), padding=same)\n",
       "    (1): BatchNorm2d(3, eps=1e-05, momentum=0.1, affine=True, track_running_stats=True)\n",
       "    (2): ReLU()\n",
       "  )\n",
       "  (exit): Sequential(\n",
       "    (0): Linear(in_features=19200, out_features=9600, bias=True)\n",
       "    (1): Dropout(p=0.05, inplace=False)\n",
       "    (2): Tanh()\n",
       "    (3): Linear(in_features=9600, out_features=6400, bias=True)\n",
       "    (4): Sigmoid()\n",
       "  )\n",
       ")>"
      ]
     },
     "execution_count": 40,
     "metadata": {},
     "output_type": "execute_result"
    }
   ],
   "source": [
    "my_conv_model.parameters"
   ]
  },
  {
   "cell_type": "code",
   "execution_count": 41,
   "metadata": {},
   "outputs": [
    {
     "name": "stdout",
     "output_type": "stream",
     "text": [
      "Epoch: 1 (out of 100); total loss: 0.6972869634628296.\n",
      "Epoch: 2 (out of 100); total loss: 0.9832937121391296.\n",
      "Epoch: 3 (out of 100); total loss: 0.1208784356713295.\n",
      "Epoch: 4 (out of 100); total loss: 0.40128791332244873.\n",
      "Epoch: 5 (out of 100); total loss: 0.68870609998703.\n",
      "Epoch: 6 (out of 100); total loss: 0.5541666746139526.\n",
      "Epoch: 7 (out of 100); total loss: 0.49166667461395264.\n",
      "Epoch: 8 (out of 100); total loss: 0.15312500298023224.\n",
      "Epoch: 9 (out of 100); total loss: 0.3837890028953552.\n",
      "Epoch: 10 (out of 100); total loss: 0.3656249940395355.\n",
      "Epoch: 11 (out of 100); total loss: 0.6760416626930237.\n",
      "Epoch: 12 (out of 100); total loss: 0.3635416626930237.\n",
      "Epoch: 13 (out of 100); total loss: 0.30347907543182373.\n",
      "Epoch: 14 (out of 100); total loss: 0.6041666865348816.\n",
      "Epoch: 15 (out of 100); total loss: 0.4000000059604645.\n",
      "Epoch: 16 (out of 100); total loss: 0.3911101520061493.\n",
      "Epoch: 17 (out of 100); total loss: 0.5292927026748657.\n",
      "Epoch: 18 (out of 100); total loss: 0.5644215941429138.\n",
      "Epoch: 19 (out of 100); total loss: 0.35318872332572937.\n",
      "Epoch: 20 (out of 100); total loss: 0.5677083134651184.\n",
      "Epoch: 21 (out of 100); total loss: 0.44479167461395264.\n",
      "Epoch: 22 (out of 100); total loss: 0.2750000059604645.\n",
      "Epoch: 23 (out of 100); total loss: 0.30416667461395264.\n",
      "Epoch: 24 (out of 100); total loss: 0.3385416567325592.\n",
      "Epoch: 25 (out of 100); total loss: 0.3395833373069763.\n",
      "Epoch: 26 (out of 100); total loss: 0.30520832538604736.\n",
      "Epoch: 27 (out of 100); total loss: 0.3375000059604645.\n",
      "Epoch: 28 (out of 100); total loss: 0.234375.\n",
      "Epoch: 29 (out of 100); total loss: 0.4229166507720947.\n",
      "Epoch: 30 (out of 100); total loss: 0.43020832538604736.\n",
      "Epoch: 31 (out of 100); total loss: 0.2958333194255829.\n",
      "Epoch: 32 (out of 100); total loss: 0.612500011920929.\n",
      "Epoch: 33 (out of 100); total loss: 0.4572916626930237.\n",
      "Epoch: 34 (out of 100); total loss: 0.4104166626930237.\n",
      "Epoch: 35 (out of 100); total loss: 0.4489583373069763.\n",
      "Epoch: 36 (out of 100); total loss: 0.7906249761581421.\n",
      "Epoch: 37 (out of 100); total loss: 0.7229166626930237.\n",
      "Epoch: 38 (out of 100); total loss: 0.3541666567325592.\n",
      "Epoch: 39 (out of 100); total loss: 0.6614583134651184.\n",
      "Epoch: 40 (out of 100); total loss: 0.421875.\n",
      "Epoch: 41 (out of 100); total loss: 0.3166666626930237.\n",
      "Epoch: 42 (out of 100); total loss: 0.41354167461395264.\n",
      "Epoch: 43 (out of 100); total loss: 0.328125.\n",
      "Epoch: 44 (out of 100); total loss: 0.6385416388511658.\n",
      "Epoch: 45 (out of 100); total loss: 0.421875.\n",
      "Epoch: 46 (out of 100); total loss: 0.706250011920929.\n",
      "Epoch: 47 (out of 100); total loss: 0.5364583134651184.\n",
      "Epoch: 48 (out of 100); total loss: 0.6041666865348816.\n",
      "Epoch: 49 (out of 100); total loss: 0.4020833373069763.\n",
      "Epoch: 50 (out of 100); total loss: 0.49166667461395264.\n",
      "Epoch: 51 (out of 100); total loss: 0.4166666567325592.\n",
      "Epoch: 52 (out of 100); total loss: 1.0593750476837158.\n",
      "Epoch: 53 (out of 100); total loss: 0.3739583194255829.\n",
      "Epoch: 54 (out of 100); total loss: 0.6770833134651184.\n",
      "Epoch: 55 (out of 100); total loss: 0.3114583194255829.\n",
      "Epoch: 56 (out of 100); total loss: 0.49791666865348816.\n",
      "Epoch: 57 (out of 100); total loss: 0.36770832538604736.\n",
      "Epoch: 58 (out of 100); total loss: 0.4833333194255829.\n",
      "Epoch: 59 (out of 100); total loss: 0.3552083373069763.\n",
      "Epoch: 60 (out of 100); total loss: 0.4208333194255829.\n",
      "Epoch: 61 (out of 100); total loss: 0.40416666865348816.\n",
      "Epoch: 62 (out of 100); total loss: 0.7052083015441895.\n",
      "Epoch: 63 (out of 100); total loss: 0.53125.\n",
      "Epoch: 64 (out of 100); total loss: 0.2395833283662796.\n",
      "Epoch: 65 (out of 100); total loss: 0.5864583253860474.\n",
      "Epoch: 66 (out of 100); total loss: 0.40833333134651184.\n",
      "Epoch: 67 (out of 100); total loss: 0.3968749940395355.\n",
      "Epoch: 68 (out of 100); total loss: 0.48229166865348816.\n",
      "Epoch: 69 (out of 100); total loss: 0.32604166865348816.\n",
      "Epoch: 70 (out of 100); total loss: 0.4541666507720947.\n",
      "Epoch: 71 (out of 100); total loss: 0.36666667461395264.\n",
      "Epoch: 72 (out of 100); total loss: 0.921875.\n",
      "Epoch: 73 (out of 100); total loss: 0.4260416626930237.\n",
      "Epoch: 74 (out of 100); total loss: 0.3916666507720947.\n",
      "Epoch: 75 (out of 100); total loss: 0.4177083373069763.\n",
      "Epoch: 76 (out of 100); total loss: 0.543749988079071.\n",
      "Epoch: 77 (out of 100); total loss: 0.4749999940395355.\n",
      "Epoch: 78 (out of 100); total loss: 0.375.\n",
      "Epoch: 79 (out of 100); total loss: 0.4520833194255829.\n",
      "Epoch: 80 (out of 100); total loss: 0.4802083373069763.\n",
      "Epoch: 81 (out of 100); total loss: 0.5375000238418579.\n",
      "Epoch: 82 (out of 100); total loss: 0.4416666626930237.\n",
      "Epoch: 83 (out of 100); total loss: 0.4156250059604645.\n",
      "Epoch: 84 (out of 100); total loss: 0.43541666865348816.\n",
      "Epoch: 85 (out of 100); total loss: 0.35208332538604736.\n",
      "Epoch: 86 (out of 100); total loss: 0.421875.\n",
      "Epoch: 87 (out of 100); total loss: 0.6354166865348816.\n",
      "Epoch: 88 (out of 100); total loss: 0.4958333373069763.\n",
      "Epoch: 89 (out of 100); total loss: 0.42916667461395264.\n",
      "Epoch: 90 (out of 100); total loss: 0.8187499642372131.\n",
      "Epoch: 91 (out of 100); total loss: 0.3843750059604645.\n",
      "Epoch: 92 (out of 100); total loss: 0.7052083015441895.\n",
      "Epoch: 93 (out of 100); total loss: 0.3635416626930237.\n",
      "Epoch: 94 (out of 100); total loss: 0.3010416626930237.\n",
      "Epoch: 95 (out of 100); total loss: 0.4625000059604645.\n",
      "Epoch: 96 (out of 100); total loss: 0.8427083492279053.\n",
      "Epoch: 97 (out of 100); total loss: 0.3895833194255829.\n",
      "Epoch: 98 (out of 100); total loss: 0.3239583373069763.\n",
      "Epoch: 99 (out of 100); total loss: 0.36666667461395264.\n",
      "Epoch: 100 (out of 100); total loss: 0.7249999642372131.\n"
     ]
    }
   ],
   "source": [
    "nepochs = 100\n",
    "batchsz = 64\n",
    "c_name = \"Conv_{}e{}b\".format(nepochs, batchsz)\n",
    "\n",
    "trainer(my_conv_model, # Must be an instance of a model!\n",
    "        c_name,\n",
    "        learning_rate=0.005,\n",
    "        epochs=nepochs,\n",
    "        batch_size=batchsz,\n",
    "        save_model = True)"
   ]
  },
  {
   "cell_type": "markdown",
   "metadata": {},
   "source": [
    "## Part 3: testing and evaluation"
   ]
  },
  {
   "cell_type": "markdown",
   "metadata": {},
   "source": [
    "### Evaluation Metrics"
   ]
  },
  {
   "cell_type": "markdown",
   "metadata": {},
   "source": [
    "Two basic types of evaluation metrics are considered:\n",
    "\n",
    "1. The \"continious\" (\"analog\") metric of *mean squared error*.\n",
    "2. Threshold-based (\"dialog\", frequency-based) metrics, assuming a treshold *t* for a classfier *C*, such that for every pixel *x*, if the probaility predicted for *x* (i.e. *p(x)*) is greater than *t*, then *C(x)* = 1, if not, *C(x)* = 0. Represented by a threhold-classification, true positives (TP), false positives (FP), true negatives (TN) and false neagtives (FN) can be calculated and therfore also standard measures of *accuracy*, *recall*, *precision* and *F1*. \n",
    "\n",
    "Both types of metrics (analog and digital) can be measured for the model's performance on *individual* images. However, general measures of the model's performance on the *complete* test set must be considered. For this, two approaches are used:\n",
    "\n",
    "*    A pooled approach: the evaluation metrics are calculated for the concatenation of predictions for every image of the test set in relation to the concatenation of every true label (pixel map of polygon boxes). \n",
    "\n",
    "`Metric([PredictionImage-1 + ... + PredictionImage-n], [TruthImage-1 + ... + TruthImage-n])` (where `+` here stands for concatenation, not addition). \n",
    "*    An averaging approach: taking the mean and standard deviation of a particular metric calculated for individual images \n",
    "\n",
    "`Mean([Metric(image-1), ..., Metric(image-n)])` \n",
    "\n",
    "\n",
    "\n",
    "    "
   ]
  },
  {
   "cell_type": "code",
   "execution_count": 22,
   "metadata": {},
   "outputs": [],
   "source": [
    "def thld_metrics(tp, fp, tn, fn):\n",
    "    \"\"\" Calculates Accuracy, Recall, Precision, and F1 from frequencies of \n",
    "        true postives (tp), false postives (fp), true negatives (tn), and\n",
    "        false neagtives (fn).\n",
    "    \"\"\"\n",
    "    accuracy = (tp + tn) / (tp + fp + tn + fn)\n",
    "    recall = tp / (tp + fn)\n",
    "    precision = tp / (tp + fp)\n",
    "    f1 = (2 * recall * precision) / (recall + precision)\n",
    "    return accuracy, recall, precision, f1"
   ]
  },
  {
   "cell_type": "code",
   "execution_count": 23,
   "metadata": {},
   "outputs": [],
   "source": [
    "def mean(array):\n",
    "    \"\"\" Calculates the mean and standard deviation of an aray of numbers.\n",
    "    \"\"\"\n",
    "#     print(array)\n",
    "    mean = np.mean(array)\n",
    "    std  = np.std(array)\n",
    "    return mean, std"
   ]
  },
  {
   "cell_type": "code",
   "execution_count": 24,
   "metadata": {},
   "outputs": [],
   "source": [
    "class Evaluation:\n",
    "    \"\"\" For storing and handling information from the evaluation of models.\n",
    "    \"\"\"\n",
    "    \n",
    "    def __init__(self, name):\n",
    "        self.name = name\n",
    "        self.pooled_mse = \"Not yet defined\"\n",
    "        self.pooled_acc = \"Not yet defined\"\n",
    "        self.pooled_rec = \"Not yet defined\"\n",
    "        self.pooled_prc = \"Not yet defined\"\n",
    "        self.pooled_f1  = \"Not yet defined\"\n",
    "        self.mean_mse = (\"Not yet defined\", \"Not yet defined\")\n",
    "        self.mean_acc = (\"Not yet defined\", \"Not yet defined\")\n",
    "        self.mean_rec = (\"Not yet defined\", \"Not yet defined\")\n",
    "        self.mean_prc = (\"Not yet defined\", \"Not yet defined\")\n",
    "        self.mean_f1  = (\"Not yet defined\", \"Not yet defined\")\n",
    "        self.metrics_dict = {\"mse\": [\"Not yet defined\", \"Not yet defined\"], \"accuracy\": [\"Not yet defined\", \"Not yet defined\"], \"recall\": [\"Not yet defined\", \"Not yet defined\"], \"precision\": [\"Not yet defined\", \"Not yet defined\"], \"f1\": [\"Not yet defined\", \"Not yet defined\"]}\n",
    "\n",
    "    def best_case(self, metric):\n",
    "        \"\"\" Returns the file which has the best performance score with respect \n",
    "            to a metric.\n",
    "        \"\"\"\n",
    "        m_list = self.metrics_dict[metric]\n",
    "        m_list.sort(key=operator.itemgetter(1), reverse=True)\n",
    "        return m_list[0][0]\n",
    "    \n",
    "    def best_cases(self, metric, n):\n",
    "        \"\"\" Returns a list of the N files which has the best performance score \n",
    "            with respect to a metric.\n",
    "        \"\"\"\n",
    "        m_list = self.metrics_dict[metric]\n",
    "        m_list.sort(key=operator.itemgetter(1), reverse=True)\n",
    "        files, values = zip(*m_list)\n",
    "        return list(files[:n])\n",
    "    \n",
    "    def worst_case(self, metric):\n",
    "        \"\"\" Returns the file which has the best performance score with respect \n",
    "            to a metric.\n",
    "        \"\"\"\n",
    "        m_list = self.metrics_dict[metric]\n",
    "        m_list.sort(key=operator.itemgetter(1), reverse=False)\n",
    "        return m_list[0][0]\n",
    "\n",
    "    def worst_cases(self, metric, n):\n",
    "        \"\"\" Returns a list of the N files which has the best performance score \n",
    "            with respect to a metric.\n",
    "        \"\"\"\n",
    "        m_list = self.metrics_dict[metric]\n",
    "        m_list.sort(key=operator.itemgetter(1), reverse=False)\n",
    "        files, values = zip(*m_list)\n",
    "        return list(files[:n])\n",
    "    \n",
    "    def compare(self, other_model):\n",
    "        \"\"\" Compares the evaluation of one model with another.\n",
    "        \"\"\"\n",
    "        pass\n",
    "    \n",
    "    def summary(self):\n",
    "        \"\"\" Summarises an evaluation. Returns string.\"\"\"\n",
    "        summary  = \"\\n\".join([f\"Model {self.name} performs as follows:\", \n",
    "                      f\"Pooled MSE: {self.pooled_mse}\",\n",
    "                      f\"Pooled Accuracy: {self.pooled_acc}\",\n",
    "                      f\"Pooled Recall: {self.pooled_rec}\",\n",
    "                      f\"Pooled Precision: {self.pooled_prc}\",\n",
    "                      f\"Pooled F1: {self.pooled_f1}\",\n",
    "                      f\"Mean MSE: {self.mean_mse[0]} (std = {self.mean_mse[1]})\",\n",
    "                      f\"Mean Accuracy: {self.mean_acc[0]} (std = {self.mean_acc[1]})\",\n",
    "                      f\"Mean Recall: {self.mean_rec[0]} (std = {self.mean_rec[1]})\",\n",
    "                      f\"Mean Precision: {self.mean_prc[0]} (std = {self.mean_prc[1]})\",\n",
    "                      f\"Mean F1: {self.mean_f1[0]} (std = {self.mean_f1[1]})\"]) \n",
    "        return summary\n",
    "    \n",
    "    def save(self, directory=path_to_save_evaluations):\n",
    "        \"\"\" Writes the summary of an evaluation to a text file (at some diectory).\"\"\"\n",
    "        \n",
    "        summary = self.summary()\n",
    "        with open(directory+self.name, \"w\") as e:\n",
    "            e.write(summary)\n",
    "    \n",
    "    def print_summary(self):\n",
    "        \"\"\" Prints out the summary of an evaluation.\n",
    "        \"\"\"\n",
    "        summary = self.summary()\n",
    "        print(summary)\n",
    "    "
   ]
  },
  {
   "cell_type": "markdown",
   "metadata": {},
   "source": [
    "### Testing: setting hyperparameters"
   ]
  },
  {
   "cell_type": "code",
   "execution_count": null,
   "metadata": {},
   "outputs": [],
   "source": [
    "batch?\n",
    "stride?\n",
    "iterations?\n",
    "window?"
   ]
  },
  {
   "cell_type": "markdown",
   "metadata": {},
   "source": [
    "### Evaluation: performance of best models"
   ]
  },
  {
   "cell_type": "code",
   "execution_count": 25,
   "metadata": {},
   "outputs": [],
   "source": [
    "def evaluator(model, name, test_data = test_set, threshold = 0.5):\n",
    "    \"\"\" Defines a general pipeline for evaluation by evaluation metrics Mean Squared Error (MSE),\n",
    "        Accuracy, Recall, Precison and F1. The evaluator() function implements the Evaluation class\n",
    "        to store and handle informaion from the evaluation. For each metric, there is a value \n",
    "        calculated for the test data as a whole (\"pooled\") and an average value calculated over the \n",
    "        set of values calculated for each image individually. Besides an instance of the Evaluation \n",
    "        class, evaluator() returns a mapping between files and the predicted outcome for that file.\n",
    "    \"\"\"\n",
    "    \n",
    "    model.eval()\n",
    "    \n",
    "    evaluation = Evaluation(name)\n",
    "    \n",
    "    prediction_pooled = []\n",
    "    truth_pooled = [] \n",
    "    thld_frequencies_pooled = {\"tp\": 0, \"fp\": 0, \"tn\": 0, \"fn\": 0}\n",
    "    thld_metrics_calc = {\"mse\": [], \"accuracy\": [], \"recall\": [], \"precision\": [], \"f1\": []}\n",
    "\n",
    "    i=1\n",
    "    for instance in test_data:\n",
    "        \n",
    "        prediction = torch.flatten(model(instance[\"img_vector\"]))\n",
    "        #print(\"pred shape\", prediction.shape)\n",
    "        truth = torch.flatten(instance[\"label\"]).int()\n",
    "        file = instance[\"file\"]\n",
    "        \n",
    "        prediction_pooled.append( (file, prediction) )\n",
    "        truth_pooled.append(truth)        \n",
    "        \n",
    "        mse = F.mse_loss(prediction, truth)\n",
    "        \n",
    "        roundof = (prediction >= threshold).int()\n",
    "        tp = sum(roundof * truth)\n",
    "        fp = sum(roundof * (~truth.bool()))\n",
    "        tn = sum((~roundof.bool()) * (~truth.bool()))\n",
    "        fn = sum((~roundof.bool()) * truth)\n",
    "        \n",
    "        accuracy, recall, precision, f1 = thld_metrics(tp, fp, tn, fn)\n",
    "        \n",
    "        \n",
    "        for key, value in zip([\"tp\", \"fp\", \"tn\", \"fn\"], [tp, fp, tn, fn]):\n",
    "            thld_frequencies_pooled[key]+=value\n",
    "        \n",
    "        for key, value in zip([\"mse\", \"accuracy\", \"recall\", \"precision\", \"f1\"], \n",
    "                              [mse.item(), accuracy.item(), recall.item(), precision.item(), f1.item()]):\n",
    "            thld_metrics_calc[key].append( (file, value) )\n",
    "        \n",
    "        print(\"({}%)\".format(round((i/len(test_data)*100), 1)), end=\"\\r\")\n",
    "        i+=1\n",
    "        \n",
    "        #print(\"TP\", tp, \"FP\", fp, \"TN\", tn, \"FN\", fn)\n",
    "        #break\n",
    "    \n",
    "    pooled_accuracy, pooled_recall, pooled_precision, pooled_f1 = thld_metrics(\n",
    "        thld_frequencies_pooled[\"tp\"], \n",
    "        thld_frequencies_pooled[\"fp\"], \n",
    "        thld_frequencies_pooled[\"tn\"], \n",
    "        thld_frequencies_pooled[\"fn\"])\n",
    "    \n",
    "    file, predictions = zip(*prediction_pooled)\n",
    "    \n",
    "    evaluation.pooled_mse = F.mse_loss(torch.flatten(torch.stack(list(predictions))), \n",
    "                                       torch.flatten(torch.stack(truth_pooled))).item()\n",
    "    evaluation.pooled_acc = pooled_accuracy\n",
    "    evaluation.pooled_rec = pooled_recall\n",
    "    evaluation.pooled_prc = pooled_precision\n",
    "    evaluation.pooled_f1  = pooled_f1\n",
    "    \n",
    "    # The code below is a bit nested. What it does in plain English is:\n",
    "    # go to the dictionary where we keep all the performance scores with respect to \n",
    "    # each file. Every key (i.e. metric) of that dict maps to a list of tupples of \n",
    "    # file and value of the metric. Here, we \"unzip\" that list of tupples and calculate the \n",
    "    # mean (and standard deviation) for the values and use that mean (and std) to define \n",
    "    # the respective attributes of the Evaluation class instance.\n",
    "    \n",
    "#     print(\"MSE\", thld_metrics_calc[\"mse\"])\n",
    "#     print(\"ACC\", thld_metrics_calc[\"accuracy\"])\n",
    "#     print(\"REC\", thld_metrics_calc[\"recall\"])\n",
    "#     print(\"PRE\", thld_metrics_calc[\"precision\"])\n",
    "#     print(\"F1\", thld_metrics_calc[\"f1\"])\n",
    "    \n",
    "    evaluation.mean_mse = mean(list(zip(*thld_metrics_calc[\"mse\"]))[1]) \n",
    "    evaluation.mean_acc = mean(list(zip(*thld_metrics_calc[\"accuracy\"]))[1]) \n",
    "    evaluation.mean_rec = mean(list(zip(*thld_metrics_calc[\"recall\"]))[1]) \n",
    "    evaluation.mean_prc = mean(list(zip(*thld_metrics_calc[\"precision\"]))[1]) \n",
    "    evaluation.mean_f1  = mean(list(zip(*thld_metrics_calc[\"f1\"]))[1]) \n",
    "    \n",
    "    evaluation.metrics_dict = thld_metrics_calc\n",
    "    \n",
    "    return evaluation, dict(prediction_pooled)\n"
   ]
  },
  {
   "cell_type": "markdown",
   "metadata": {},
   "source": [
    "#### Simple model"
   ]
  },
  {
   "cell_type": "code",
   "execution_count": null,
   "metadata": {},
   "outputs": [],
   "source": [
    "evaluation_s, file2pred_map = evaluator(my_simple_model, name)"
   ]
  },
  {
   "cell_type": "code",
   "execution_count": null,
   "metadata": {},
   "outputs": [],
   "source": [
    "evaluation_s.print_summary()"
   ]
  },
  {
   "cell_type": "code",
   "execution_count": null,
   "metadata": {},
   "outputs": [],
   "source": [
    "my_test_file = evaluation_s.best_case(\"accuracy\")"
   ]
  },
  {
   "cell_type": "code",
   "execution_count": null,
   "metadata": {},
   "outputs": [],
   "source": [
    "another_test_file = evaluation_s.worst_case(\"f1\")"
   ]
  },
  {
   "cell_type": "code",
   "execution_count": null,
   "metadata": {},
   "outputs": [],
   "source": [
    "evaluation_s.save()"
   ]
  },
  {
   "cell_type": "markdown",
   "metadata": {},
   "source": [
    "#### Diablo Autoencoder"
   ]
  },
  {
   "cell_type": "code",
   "execution_count": 26,
   "metadata": {},
   "outputs": [
    {
     "name": "stdout",
     "output_type": "stream",
     "text": [
      "(100.0%)\r"
     ]
    }
   ],
   "source": [
    "evaluation_db, file2pred_map = evaluator(my_diabolo_model, db_name)"
   ]
  },
  {
   "cell_type": "code",
   "execution_count": 27,
   "metadata": {},
   "outputs": [
    {
     "name": "stdout",
     "output_type": "stream",
     "text": [
      "Model Diab_100e128b performs as follows:\n",
      "Pooled MSE: 0.005233759991824627\n",
      "Pooled Accuracy: 0.9947736263275146\n",
      "Pooled Recall: 0.0\n",
      "Pooled Precision: nan\n",
      "Pooled F1: nan\n",
      "Mean MSE: 0.005233759726796438 (std = 0.005895109081309393)\n",
      "Mean Accuracy: 0.9947736812388803 (std = 0.005881430703288947)\n",
      "Mean Recall: nan (std = nan)\n",
      "Mean Precision: nan (std = nan)\n",
      "Mean F1: nan (std = nan)\n"
     ]
    }
   ],
   "source": [
    "evaluation_db.print_summary()"
   ]
  },
  {
   "cell_type": "code",
   "execution_count": 50,
   "metadata": {},
   "outputs": [],
   "source": [
    "my_test_file = evaluation_db.best_case(\"accuracy\")"
   ]
  },
  {
   "cell_type": "code",
   "execution_count": 51,
   "metadata": {},
   "outputs": [
    {
     "name": "stdout",
     "output_type": "stream",
     "text": [
      "0000440.jpg 1000901.jpg\n"
     ]
    }
   ],
   "source": [
    "print(evaluation_db.best_case(\"accuracy\"), evaluation_db.worst_case(\"accuracy\"))"
   ]
  },
  {
   "cell_type": "code",
   "execution_count": 52,
   "metadata": {},
   "outputs": [],
   "source": [
    "another_test_file = evaluation_db.worst_case(\"accuracy\")"
   ]
  },
  {
   "cell_type": "code",
   "execution_count": 53,
   "metadata": {},
   "outputs": [],
   "source": [
    "evaluation_db.save()"
   ]
  },
  {
   "cell_type": "markdown",
   "metadata": {},
   "source": [
    "#### Convolutional model"
   ]
  },
  {
   "cell_type": "code",
   "execution_count": null,
   "metadata": {},
   "outputs": [],
   "source": [
    "evaluation_cv, file2pred_map = evaluator(my_conv_model, c_name)"
   ]
  },
  {
   "cell_type": "code",
   "execution_count": null,
   "metadata": {},
   "outputs": [],
   "source": [
    "evaluation_cv.print_summary()"
   ]
  },
  {
   "cell_type": "code",
   "execution_count": 42,
   "metadata": {},
   "outputs": [
    {
     "ename": "NameError",
     "evalue": "name 'evaluation_cv' is not defined",
     "output_type": "error",
     "traceback": [
      "\u001b[0;31m---------------------------------------------------------------------------\u001b[0m",
      "\u001b[0;31mNameError\u001b[0m                                 Traceback (most recent call last)",
      "\u001b[0;32m/tmp/ipykernel_924454/3990515559.py\u001b[0m in \u001b[0;36m<module>\u001b[0;34m\u001b[0m\n\u001b[0;32m----> 1\u001b[0;31m \u001b[0mmy_test_file\u001b[0m \u001b[0;34m=\u001b[0m \u001b[0mevaluation_cv\u001b[0m\u001b[0;34m.\u001b[0m\u001b[0mbest_case\u001b[0m\u001b[0;34m(\u001b[0m\u001b[0;34m\"f1\"\u001b[0m\u001b[0;34m)\u001b[0m\u001b[0;34m\u001b[0m\u001b[0;34m\u001b[0m\u001b[0m\n\u001b[0m",
      "\u001b[0;31mNameError\u001b[0m: name 'evaluation_cv' is not defined"
     ]
    }
   ],
   "source": [
    "my_test_file = evaluation_cv.best_case(\"f1\")"
   ]
  },
  {
   "cell_type": "code",
   "execution_count": null,
   "metadata": {},
   "outputs": [],
   "source": [
    "another_test_file = evaluation_cv.worst_case(\"f1\")"
   ]
  },
  {
   "cell_type": "code",
   "execution_count": null,
   "metadata": {},
   "outputs": [],
   "source": [
    "evaluation_cv.save()"
   ]
  },
  {
   "cell_type": "markdown",
   "metadata": {},
   "source": [
    "### Visualizations"
   ]
  },
  {
   "cell_type": "code",
   "execution_count": 44,
   "metadata": {},
   "outputs": [],
   "source": [
    "def visualize(file, \n",
    "              file2prediction, \n",
    "              file2annotation, # the mapping of files with their annotations was defined above\n",
    "              height = 2048, \n",
    "              width = 2048, \n",
    "              rescale = rescale_output_to,\n",
    "              img_dir = images_dir, \n",
    "              colorscheme = \"Reds\", \n",
    "              alpha_value = 0.3):\n",
    "    \"\"\" Visualizes the performance of a model on a particular image.\n",
    "    \"\"\"\n",
    "    \n",
    "    # FIRST, collect elements of figure\n",
    "    img = Image.open(img_dir+file)\n",
    "    if rescale != None:\n",
    "        img = img.resize((rescale, rescale))\n",
    "    \n",
    "    if rescale != None:\n",
    "        rescale_by = rescale / height # must come first\n",
    "        height = rescale\n",
    "        width = rescale\n",
    "\n",
    "    polygons = []\n",
    "    for block in file2annotation[file]:  \n",
    "        for character in block:\n",
    "            if character[\"is_chinese\"] == True:\n",
    "                polygons.append(character[\"polygon\"])\n",
    "    \n",
    "    if rescale != None:\n",
    "        polygons = [[[point * rescale_by for point in points] for points in set_of_points] for set_of_points in polygons]\n",
    "    \n",
    "    cpu_tensor = file2prediction[file].cpu().detach().numpy()\n",
    "    heat = cpu_tensor.reshape(height, width)\n",
    "    #heat = file2prediction[file].reshape(height, width).detach().numpy()\n",
    "    \n",
    "    # SECOND, arrange and plot elements in 2 x 2 subplots\n",
    "    \n",
    "    %matplotlib inline\n",
    "    \n",
    "    figure = plt.figure(figsize=(16, 16))\n",
    "    \n",
    "    #Up-Left\n",
    "    axUL = figure.add_subplot(221)\n",
    "    axUL.set_title(\"True polygon box on image (Target)\")\n",
    "    axUL.imshow(img)\n",
    "    for polygon in polygons:\n",
    "        polly = Polygon(polygon, fill = False, color = (0, 1, 0)) # Recall that Polygon is a method of matplotlib.patches\n",
    "        axUL.add_patch(polly)\n",
    "\n",
    "    #Up-Right\n",
    "    axUR = figure.add_subplot(222)\n",
    "    axUR.set_title(\"Predicted heatmap on image (Result)\")\n",
    "    axUR.imshow(img)\n",
    "    axUR.imshow(heat, cmap = colorscheme, alpha = alpha_value)\n",
    "\n",
    "    #Down-Left\n",
    "    axDL = figure.add_subplot(223)\n",
    "    axDL.set_title(\"Image, Target and Result\")\n",
    "    axDL.imshow(img)\n",
    "    axDL.imshow(heat, cmap = colorscheme, alpha = alpha_value)\n",
    "    for polygon in polygons:\n",
    "        polly = Polygon(polygon, fill = False, color = (0, 1, 0))\n",
    "        axDL.add_patch(polly)\n",
    "\n",
    "    #Down-Right\n",
    "    axDR = figure.add_subplot(224)\n",
    "    axDR.set_title(\"True box on predicted heatmap (Abstraction)\")\n",
    "    axDR.imshow(heat, cmap = colorscheme, alpha = alpha_value)\n",
    "    for polygon in polygons:\n",
    "        polly = Polygon(polygon, fill = False, color = (0, 1, 0))\n",
    "        axDR.add_patch(polly)\n",
    "\n",
    "    plt.show()\n"
   ]
  },
  {
   "cell_type": "code",
   "execution_count": 54,
   "metadata": {
    "scrolled": true
   },
   "outputs": [
    {
     "data": {
      "image/png": "[encoded data removed]",
      "text/plain": [
       "<Figure size 1152x1152 with 4 Axes>"
      ]
     },
     "metadata": {
      "needs_background": "light"
     },
     "output_type": "display_data"
    }
   ],
   "source": [
    "visualize(my_test_file, file2pred_map, mapping)"
   ]
  },
  {
   "cell_type": "code",
   "execution_count": 55,
   "metadata": {},
   "outputs": [
    {
     "data": {
      "image/png": "[encoded data removed]",
      "text/plain": [
       "<Figure size 1152x1152 with 4 Axes>"
      ]
     },
     "metadata": {
      "needs_background": "light"
     },
     "output_type": "display_data"
    }
   ],
   "source": [
    "visualize(another_test_file, file2pred_map, mapping)"
   ]
  },
  {
   "cell_type": "code",
   "execution_count": null,
   "metadata": {},
   "outputs": [],
   "source": []
  },
  {
   "cell_type": "code",
   "execution_count": null,
   "metadata": {},
   "outputs": [],
   "source": []
  },
  {
   "cell_type": "code",
   "execution_count": null,
   "metadata": {},
   "outputs": [],
   "source": []
  }
 ],
 "metadata": {
  "kernelspec": {
   "display_name": "Python 3 (ipykernel)",
   "language": "python",
   "name": "python3"
  },
  "language_info": {
   "codemirror_mode": {
    "name": "ipython",
    "version": 3
   },
   "file_extension": ".py",
   "mimetype": "text/x-python",
   "name": "python",
   "nbconvert_exporter": "python",
   "pygments_lexer": "ipython3",
   "version": "3.9.6"
  }
 },
 "nbformat": 4,
 "nbformat_minor": 4
}
