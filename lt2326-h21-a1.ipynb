{
 "cells": [
  {
   "cell_type": "markdown",
   "metadata": {},
   "source": [
    "# Assignment 1: Chinese character \"detection\"\n",
    "LT2326, Autumn 2021\n",
    "\n",
    "Name: Max Boholm (gusbohom)"
   ]
  },
  {
   "cell_type": "markdown",
   "metadata": {},
   "source": [
    "# Introduction"
   ]
  },
  {
   "cell_type": "markdown",
   "metadata": {},
   "source": [
    "This notebook cotains the code for *Assignment 1: Chinese character \"detection\"* for the course *Machine learning for statistical NLP: Advanced* (course code LT2326), Autumn 2021. The notebook is organized into the folowing parts:\n",
    "\n",
    "*    Meta variables (the term *hyperparameter* is here reserved for decisions on the models), which define ... the loacation (path) of the data, ... \n",
    "*    Data preparation\n",
    "*    Definition and training of two models\n",
    "*    Testing and evaluation\n",
    "*    ...\n",
    "\n",
    "\n"
   ]
  },
  {
   "cell_type": "markdown",
   "metadata": {},
   "source": [
    "# TO DO"
   ]
  },
  {
   "cell_type": "markdown",
   "metadata": {},
   "source": [
    "**THINK AGAIN ABOUT WHAT THE PROBLEM IS**\n",
    "How do you go from the \"topographic\" representation back to coordinates?\n",
    "Consider using coordinates as targets, how do you calculate the loss? (Perhaps not that hard... one output for every dimension of coordinates... but then: ) How to handle variable length of boxes in image?\n",
    "\n",
    "???\n",
    "predict coordinates\n",
    "for a 2048 x 2048 vector translate those coordinates to 0s and 1s\n",
    "compute loss for that vector\n",
    "\n",
    "\n",
    "\n",
    "*    adjusted box vs polygon proper - how to implement the latter? Cross-secting pixels? Too complicated?!\n",
    "*    Rescaling - how stupid is my approach?\n",
    "*    How to build (convolutional) models?\n",
    "    *    Does I have to consider padding? (If so, perhaps best to use a `torch` dataloader)\n",
    "    *    Flattening\n",
    "*    How to visualize?\n",
    "    *    Reverse flattening\n",
    "    *    Heatmap simple\n",
    "    *    Heatmap-layer\n",
    "*    Evaluation metrics"
   ]
  },
  {
   "cell_type": "markdown",
   "metadata": {},
   "source": [
    "# Libraries"
   ]
  },
  {
   "cell_type": "code",
   "execution_count": 1,
   "metadata": {},
   "outputs": [],
   "source": [
    "import glob\n",
    "import json\n",
    "import random\n",
    "from PIL import Image\n",
    "import numpy as np\n",
    "\n",
    "import torch\n",
    "import torch.nn as nn\n",
    "import torch.nn.functional as F\n",
    "import torch.optim as optim"
   ]
  },
  {
   "cell_type": "markdown",
   "metadata": {},
   "source": [
    "# Meta variables"
   ]
  },
  {
   "cell_type": "code",
   "execution_count": 11,
   "metadata": {},
   "outputs": [],
   "source": [
    "#path = \"../../scratch/lt2326-h21/a1/\"\n",
    "path = \"../develop_util/\"\n",
    "images_dir = path + \"images/\"      # the directory of images to be data\n",
    "meta_ctw   = path + \"info.json\"   # the (path to) the general meta file of CTW \n",
    "meta_train = path + \"train.jsonl\" # the (path to) the file containing the annotations of CTW training data\n",
    "\n",
    "train_proportion = 0.7 # the proportion of training data; proportion of test data will be the complement of this number\n",
    "\n",
    "#device = torch.device('cuda:0')\n",
    "device = torch.device('cpu')\n",
    "\n",
    "path_to_save_models = \"../models/\"\n",
    "\n",
    "restriction = None # set to an integer, if subsample of the data is to be used in e.g. the development phase\n",
    "rescale_input_to = 100 #\n",
    "rescale_output_to = 256 #\n",
    "\n",
    "\n"
   ]
  },
  {
   "cell_type": "code",
   "execution_count": null,
   "metadata": {},
   "outputs": [],
   "source": [
    "def devider(n):\n",
    "    numerator = 2\n",
    "    while n > 1:\n",
    "        n = n/numerator\n",
    "        print(n, numerator)\n",
    "        numerator = numerator * 2\n",
    "devider(2048)"
   ]
  },
  {
   "cell_type": "markdown",
   "metadata": {},
   "source": [
    "## Part 1: data preparation"
   ]
  },
  {
   "cell_type": "code",
   "execution_count": 12,
   "metadata": {},
   "outputs": [],
   "source": [
    "def only_train(file_dir = images_dir, meta_file = meta_ctw):\n",
    "    \"\"\"Tests whether image files in a directory is part of the training set of the CTW data set, \n",
    "       as defined by the json metafile for CTW. Returns a list of filenames such that they are both\n",
    "       in the specified directory and the CTW training set.\n",
    "    \"\"\"\n",
    "    meta = json.load(open(meta_file,\"r\"))\n",
    "    \n",
    "    train_files_CTW = [entry[\"file_name\"] for entry in meta[\"train\"]]\n",
    "    \n",
    "    files_to_keep = []\n",
    "    \n",
    "    potential_files=[file.split(\"/\")[-1] for file in glob.glob(file_dir+\"*.jpg\")]\n",
    "    \n",
    "    for file in potential_files:\n",
    "        if file in train_files_CTW:\n",
    "            files_to_keep.append(file)\n",
    "            \n",
    "    return files_to_keep\n",
    "\n",
    "def CTW_mapper(files, meta = meta_train):\n",
    "    \"\"\" Identifies annotations for files from the training set of the CTW dataset. \n",
    "        Returns pyhoton dictionary that maps filenames (keys) with annotations (values), \n",
    "        which like in the original format is a list of lists of json elements / python dictinaries. \n",
    "    \"\"\"\n",
    "    mapping = {}\n",
    "   \n",
    "    with open(meta, \"r\") as f:\n",
    "        \n",
    "        annotations_data = [json.loads(line) for line in f.readlines()]\n",
    "        \n",
    "        #print(annotations_data[1])\n",
    "\n",
    "        for file in files:\n",
    "            for annotation in annotations_data:\n",
    "                if annotation[\"image_id\"] == file[:-4]:\n",
    "                    mapping[file] = annotation[\"annotations\"]\n",
    "                    break\n",
    "    \n",
    "    return mapping\n",
    "                    \n",
    "def img2vector(file, directory=images_dir, device=device, rescale=rescale_input_to):\n",
    "    \"\"\" Takes a filename of an image in a directory and returns a ...\n",
    "    \"\"\"\n",
    "    \n",
    "    img = Image.open(directory+file)\n",
    "    \n",
    "    if rescale != None:\n",
    "        img = img.resize((rescale, rescale))\n",
    "    \n",
    "    img_vec = torch.LongTensor(np.array(img), device=device) # do I really need this nesting?\n",
    "    \n",
    "    #flatten?\n",
    "    #padding?\n",
    "    \n",
    "    return img_vec\n",
    "\n",
    "def coordinates2vector(file, mapping, device=device, height = 2048, width = 2048, rescale=rescale_output_to): \n",
    "    \"\"\" Builds a vector of 0s and 1s based on the coordinates ...\n",
    "    \"\"\"\n",
    "    \n",
    "    #ALTHOUGH I RESCALE THE INPUT I DO NOT HAVE TO RESCALE THE OUTPUT!!!\n",
    "    \n",
    "    if rescale != None:\n",
    "        height = rescale\n",
    "        width = rescale\n",
    "        rescale_by = rescale / height\n",
    "    \n",
    "    char_matrix = torch.zeros(height, width, device=device)\n",
    "    \n",
    "    char_areas = []\n",
    "    for block in mapping[file]:\n",
    "        for character in block:\n",
    "            if character[\"is_chinese\"] == True:\n",
    "                xmin = int(character[\"adjusted_bbox\"][0])\n",
    "                ymin = int(character[\"adjusted_bbox\"][1])\n",
    "                w    = int(character[\"adjusted_bbox\"][2])\n",
    "                h    = int(character[\"adjusted_bbox\"][3])\n",
    "                \n",
    "                if rescale != None:\n",
    "                    xmin = int(xmin * rescale_by)\n",
    "                    ymin = int(ymin * rescale_by)\n",
    "                    w    = int(w    * rescale_by)\n",
    "                    h    = int(h    * rescale_by)\n",
    "                    \n",
    "                \n",
    "                char_areas.append((xmin, ymin, w, h))\n",
    "    \n",
    "    for xmin, ymin, w, h in char_areas:\n",
    "        \n",
    "        r1 = height - ymin - h\n",
    "        r2 = r1 + h\n",
    "        c1 = width - xmin\n",
    "        c2 = c1 + w\n",
    "        \n",
    "        char_matrix[r1:r2 , c1:c2] = 1\n",
    "    \n",
    "    #flatten?\n",
    "    \n",
    "    return char_matrix\n",
    "        \n",
    "def data_builder(files, directory, mapping, restriction = restriction):\n",
    "    \"\"\" Compiles the data set for use. Returns a list of dictionaties, specifying:\n",
    "        -  the filename; key: \"file\"\n",
    "        -  the training data (vector); key: \"img_vector\"\n",
    "        -  the labels (a vector of 0s and 1s indicating boxes of characters in images); key: \"label\" \n",
    "    \"\"\"\n",
    "    \n",
    "    data = []\n",
    "    \n",
    "    for file in files:\n",
    "        instance = {}\n",
    "        instance[\"file\"] = file\n",
    "        instance[\"img_vector\"] = img2vector(file)\n",
    "        instance[\"label\"] = coordinates2vector(file, mapping)\n",
    "        data.append(instance) \n",
    "    \n",
    "    if restriction != None:\n",
    "        random.shuffle(data)\n",
    "        data = data[:restriction]\n",
    "        \n",
    "    return data\n",
    "    \n",
    "files = only_train()\n",
    "mapping = CTW_mapper(files)\n",
    "my_data = data_builder(files, images_dir, mapping)"
   ]
  },
  {
   "cell_type": "code",
   "execution_count": null,
   "metadata": {},
   "outputs": [],
   "source": [
    "def split(data       = my_data, \n",
    "          train_prop = train_proportion, \n",
    "          val_prop   = None):\n",
    "    \n",
    "    if val_prop != None:\n",
    "        train_to_idx = int(len(data) * train_prop)\n",
    "        val_to_idx   = int(len(data) * val_prop) + train_to_idx\n",
    "        train = data[:train_to_idx]\n",
    "        val   = data[train_to_idx:val_to_idx]\n",
    "        test  = data[val_to_idx:]\n",
    "        return train, val, test\n",
    "    else:\n",
    "        train_to_idx = int(len(data) * train_prop)\n",
    "        train = data[:train_to_idx]\n",
    "        test  = data[train_to_idx:]\n",
    "        return train, test\n",
    "\n",
    "train_set, test_set = split(my_data) #val?"
   ]
  },
  {
   "cell_type": "code",
   "execution_count": null,
   "metadata": {},
   "outputs": [],
   "source": [
    "# do we need padding?!\n",
    "\n",
    "#to be used in training below ... \n",
    "def data_loader(data, batch):\n",
    "    ...\n",
    "    yield ..."
   ]
  },
  {
   "cell_type": "code",
   "execution_count": null,
   "metadata": {},
   "outputs": [],
   "source": [
    "# from ve_second\n",
    "\n",
    "def dataloader(data_as_list, batch_size):\n",
    "    random.shuffle(data_as_list)\n",
    "    \n",
    "    batched=[]\n",
    "    \n",
    "    for i in range(0, len(data_as_list), batch_size): # solution found here: https://www.delftstack.com/howto/python/python-split-list-into-chunks/\n",
    "        batch = data_as_list[i : i+batch_size]\n",
    "\n",
    "        labels=[]\n",
    "        lemmas=[]\n",
    "        indices=[]\n",
    "        sentences=[]\n",
    "                                                              \n",
    "        for lab, lem, idx, sen in batch:\n",
    "\n",
    "            labels.append(lab)\n",
    "            lemmas.append(lem)\n",
    "            indices.append(idx)\n",
    "            sentences.append(sen)\n",
    "            \n",
    "        batched.append((labels, lemmas, indices, sentences))\n",
    "   \n",
    "    for labels, lemmas, indices, sentences in batched: \n",
    "        T_sentences = tokenizer.batch_encode_plus(\n",
    "            sentences,\n",
    "            padding=True,\n",
    "            truncation=True,\n",
    "            #add_special_tokens=True,\n",
    "            #return_attention_mask=True,\n",
    "            #is_split_into_words=True,\n",
    "            #do_lower_case=True,\n",
    "            return_tensors=\"pt\").to(device)\n",
    "\n",
    "        yield labels, lemmas, indices, T_sentences"
   ]
  },
  {
   "cell_type": "markdown",
   "metadata": {},
   "source": [
    "### Some testing"
   ]
  },
  {
   "cell_type": "code",
   "execution_count": null,
   "metadata": {},
   "outputs": [],
   "source": [
    "print(files)\n",
    "print(mapping)\n",
    "print(my_data)"
   ]
  },
  {
   "cell_type": "code",
   "execution_count": 13,
   "metadata": {},
   "outputs": [
    {
     "name": "stdout",
     "output_type": "stream",
     "text": [
      "1\n",
      "2\n",
      "3\n",
      "7906\n"
     ]
    }
   ],
   "source": [
    "# Testing for 1s\n",
    "labels = [x[\"label\"] for x in my_data]\n",
    "i=0\n",
    "j=1\n",
    "for vec in labels[:3]:\n",
    "    print(j)\n",
    "    for x in vec:\n",
    "        for y in x:\n",
    "            if y != 0:\n",
    "                i = i+1\n",
    "    j+=1\n",
    "print(i)"
   ]
  },
  {
   "cell_type": "markdown",
   "metadata": {},
   "source": [
    "### Development area"
   ]
  },
  {
   "cell_type": "code",
   "execution_count": null,
   "metadata": {},
   "outputs": [],
   "source": [
    "import torch\n",
    "t = torch.zeros(10, 10)\n",
    "t[1:3, 5:7]=1 # rows, columns\n",
    "print(t.shape)\n",
    "t"
   ]
  },
  {
   "cell_type": "code",
   "execution_count": null,
   "metadata": {},
   "outputs": [],
   "source": [
    "from PIL import Image\n",
    "import torch\n",
    "import numpy as np\n",
    "img = Image.open(\"../develop_util/images/0000172.jpg\")\n",
    "\n",
    "img_np=np.array(img)\n",
    "img_vec=torch.LongTensor(img_np)\n",
    "#print(img)\n",
    "img_vec"
   ]
  },
  {
   "cell_type": "code",
   "execution_count": null,
   "metadata": {},
   "outputs": [],
   "source": []
  },
  {
   "cell_type": "markdown",
   "metadata": {},
   "source": [
    "## Part 2: the models"
   ]
  },
  {
   "cell_type": "code",
   "execution_count": null,
   "metadata": {},
   "outputs": [],
   "source": [
    "def trainer(train_data,\n",
    "            val_data = None,\n",
    "            my_model, \n",
    "            name_of_model,\n",
    "            save_model = False\n",
    "            my_optimizer = optim.Adam(),\n",
    "            my_loss_function,\n",
    "            learning_rate, \n",
    "            epochs, \n",
    "            batch_size,\n",
    "            stride=None):\n",
    "    \n",
    "    optimzer = my_optimzer(model.parameters(), lr=learning_rate)    \n",
    "    \n",
    "    model = my_model\n",
    "    model.to(device)\n",
    "    model.train()\n",
    "    \n",
    "    loss_function = my_loss_function\n",
    "    \n",
    "    total_loss = 0\n",
    "    \n",
    "    for epoch in range(epochs):\n",
    "        iteration = data_loader(train_set, batch_size)\n",
    "        for i, batch in enumerate(iteraton):\n",
    "            \n",
    "            input_img = batch[\"img_vector\"]\n",
    "            targets   = batch[\"labels\"]\n",
    "            \n",
    "            output = model(input_img)\n",
    "            \n",
    "            loss = loss_function(output, targets)\n",
    "            \n",
    "            total_loss += loss.item() \n",
    "            print(i, total_loss/(i+1), end='\\r') \n",
    "            loss.backward() # compute gradients\n",
    "            optimizer.step() # update parameters\n",
    "            optimizer.zero_grad # reset gradients\n",
    "            \n",
    "        print()\n",
    "            \n",
    "        if val_data != None:\n",
    "            model.eval()\n",
    "            \n",
    "            # DO SOMETHING\n",
    "            \n",
    "            model.train()\n",
    "            \n",
    "    if save_model == True:\n",
    "        torch.save(model, path_to_save_models+name_of_model)\n",
    "  \n",
    "    "
   ]
  },
  {
   "cell_type": "markdown",
   "metadata": {},
   "source": [
    "### Model 0: Simple Model"
   ]
  },
  {
   "cell_type": "code",
   "execution_count": null,
   "metadata": {},
   "outputs": [],
   "source": [
    "epochs = 3\n",
    "batch_size_m1 = 1\n",
    "lr_m1 = 0.01 \n",
    "stride_m1 = 1\n",
    "window_m1 = (1,1)\n",
    "m1_name = \"m1_{}{}{}\".format(\"B\", \"S\", \"X\")"
   ]
  },
  {
   "cell_type": "markdown",
   "metadata": {},
   "source": [
    "#### Model defintion"
   ]
  },
  {
   "cell_type": "code",
   "execution_count": null,
   "metadata": {},
   "outputs": [],
   "source": [
    "class SimpleModel(nn.Module):\n",
    "    def __init__(self, inp, hidden, n_labels):  \n",
    "        super(SimpleModel, self).__init__()\n",
    "        self.t1 = nn.Linear(inp, hidden)\n",
    "        self.classifier = nn.Linear(hidden, n_labels)\n",
    "  \n",
    "    def forward(self, batch):\n",
    "        \n",
    "        x = batch.SOME_OPERATION \n",
    "        \n",
    "        compression = F.relu(self.t1(x))\n",
    "        \n",
    "        output = F.sigmoid(self.classifier(compression))\n",
    "        \n",
    "        return output"
   ]
  },
  {
   "cell_type": "markdown",
   "metadata": {},
   "source": [
    "#### Training and saving model"
   ]
  },
  {
   "cell_type": "code",
   "execution_count": null,
   "metadata": {},
   "outputs": [],
   "source": []
  },
  {
   "cell_type": "markdown",
   "metadata": {},
   "source": [
    "### Model 1: ..."
   ]
  },
  {
   "cell_type": "code",
   "execution_count": null,
   "metadata": {},
   "outputs": [],
   "source": [
    "epochs = 3\n",
    "batch_size_m1 = 1\n",
    "lr_m1 = 0.01 \n",
    "stride_m1 = 1\n",
    "window_m1 = (1,1)\n",
    "m1_name = \"m1_{}{}{}\".format(\"B\", \"S\", \"X\")\n"
   ]
  },
  {
   "cell_type": "markdown",
   "metadata": {},
   "source": [
    "#### Model definition"
   ]
  },
  {
   "cell_type": "code",
   "execution_count": null,
   "metadata": {},
   "outputs": [],
   "source": []
  },
  {
   "cell_type": "markdown",
   "metadata": {},
   "source": [
    "#### Training and saving model"
   ]
  },
  {
   "cell_type": "code",
   "execution_count": null,
   "metadata": {},
   "outputs": [],
   "source": []
  },
  {
   "cell_type": "markdown",
   "metadata": {},
   "source": [
    "### Model 2: ..."
   ]
  },
  {
   "cell_type": "code",
   "execution_count": null,
   "metadata": {},
   "outputs": [],
   "source": [
    "\n",
    "batch_size_m2 = 1\n",
    "lr_m2 = 0.01 \n",
    "stride_m2 = 1\n",
    "window_m2 = (1,1)\n",
    "m2_name = \"m2_{}{}{}\".format(\"B\", \"S\", \"X\")\n"
   ]
  },
  {
   "cell_type": "markdown",
   "metadata": {},
   "source": [
    "#### Model definition"
   ]
  },
  {
   "cell_type": "code",
   "execution_count": null,
   "metadata": {},
   "outputs": [],
   "source": []
  },
  {
   "cell_type": "markdown",
   "metadata": {},
   "source": [
    "#### Training and saving model"
   ]
  },
  {
   "cell_type": "code",
   "execution_count": null,
   "metadata": {},
   "outputs": [],
   "source": [
    "train = dataloader(train_data, batch=batch_size_m2)"
   ]
  },
  {
   "cell_type": "code",
   "execution_count": null,
   "metadata": {},
   "outputs": [],
   "source": []
  },
  {
   "cell_type": "markdown",
   "metadata": {},
   "source": [
    "## Part 3: testing and evaluation"
   ]
  },
  {
   "cell_type": "markdown",
   "metadata": {},
   "source": [
    "### Metrics"
   ]
  },
  {
   "cell_type": "code",
   "execution_count": null,
   "metadata": {},
   "outputs": [],
   "source": [
    "def precison\n",
    "def accuracy\n",
    "def recall\n",
    "def mean square X"
   ]
  },
  {
   "cell_type": "markdown",
   "metadata": {},
   "source": [
    "### Testing: setting hyperparameters"
   ]
  },
  {
   "cell_type": "code",
   "execution_count": null,
   "metadata": {},
   "outputs": [],
   "source": [
    "batch\n",
    "stride\n",
    "iterations\n"
   ]
  },
  {
   "cell_type": "markdown",
   "metadata": {},
   "source": [
    "### Evaluation: performance of best models"
   ]
  },
  {
   "cell_type": "code",
   "execution_count": null,
   "metadata": {},
   "outputs": [],
   "source": []
  },
  {
   "cell_type": "markdown",
   "metadata": {},
   "source": [
    "### Visualizations"
   ]
  },
  {
   "cell_type": "code",
   "execution_count": null,
   "metadata": {},
   "outputs": [],
   "source": []
  }
 ],
 "metadata": {
  "kernelspec": {
   "display_name": "Python 3",
   "language": "python",
   "name": "python3"
  },
  "language_info": {
   "codemirror_mode": {
    "name": "ipython",
    "version": 3
   },
   "file_extension": ".py",
   "mimetype": "text/x-python",
   "name": "python",
   "nbconvert_exporter": "python",
   "pygments_lexer": "ipython3",
   "version": "3.8.5"
  }
 },
 "nbformat": 4,
 "nbformat_minor": 4
}
