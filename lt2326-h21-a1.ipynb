{
 "cells": [
  {
   "cell_type": "markdown",
   "metadata": {},
   "source": [
    "# Assignment 1: Chinese character \"detection\"\n",
    "LT2326, Autumn 2021\n",
    "\n",
    "Name: Max Boholm (gusbohom)"
   ]
  },
  {
   "cell_type": "markdown",
   "metadata": {},
   "source": [
    "# Introduction"
   ]
  },
  {
   "cell_type": "markdown",
   "metadata": {},
   "source": [
    "This notebook cotains the code for *Assignment 1: Chinese character \"detection\"* for the course *Machine learning for statistical NLP: Advanced* (course code LT2326), Autumn 2021. The notebook is organized into the folowing parts:\n",
    "\n",
    "*    Meta variables (the term *hyperparameter* is here reserved for decisions on the models), which define ... the loacation (path) of the data, ... \n",
    "*    Data preparation\n",
    "*    Definition and training of two models\n",
    "*    Testing and evaluation\n",
    "*    ...\n",
    "\n",
    "\n"
   ]
  },
  {
   "cell_type": "markdown",
   "metadata": {},
   "source": [
    "# Meta variables"
   ]
  },
  {
   "cell_type": "code",
   "execution_count": null,
   "metadata": {},
   "outputs": [],
   "source": [
    "path = \"../../scratch/lt2326-h21/a1\"\n",
    "images_dir = path+\"/images\" \n",
    "\n",
    "### are these the ones we are supposed to use? How do we know which these are? \n",
    "# Are we supposed to gor from these files to find their annotations?\n",
    "# How to reach a zipped dir from Python?\n",
    "\n",
    "#meta_file = \"info.json\"\n",
    "meta_file = path+\"/train.jsonl\" ### json line format I guess\n",
    "\n",
    "train_proportion = 0.7 # the proportion for test data will be the complement of this\n",
    "restriction = True # set to True for only using a sub-sample of images (in traingin and evaluation); False otherwise\n",
    "n_restriction = 100 # the size of the subsample\n",
    "#device = torch.device('cuda:0')\n",
    "device = torch.device('cpu')\n"
   ]
  },
  {
   "cell_type": "markdown",
   "metadata": {},
   "source": [
    "## Part 1: data preparation"
   ]
  },
  {
   "cell_type": "code",
   "execution_count": null,
   "metadata": {},
   "outputs": [],
   "source": [
    "#libraries\n",
    "import glob #is this the one?"
   ]
  },
  {
   "cell_type": "markdown",
   "metadata": {},
   "source": [
    "New idea\n",
    "\n",
    "get file names in /scratch/lt2326-h21/a1/images\n",
    "go to json-file, collect annotations for those files\n",
    "convert files to vectors\n",
    "ranomize\n",
    "split into TRAIN and TEST\n",
    "\n",
    "create data loader; which for every iteration yields examples in random order (perhaps use predefined dataloader)\n",
    "\n",
    "probably use `pandas` for back-tracking reasons\n",
    "\n",
    "one function for all, or several functions for get file names; etc. \n"
   ]
  },
  {
   "cell_type": "code",
   "execution_count": null,
   "metadata": {},
   "outputs": [],
   "source": [
    "lookup = SOME_JSON_STUFF(meta_file)\n",
    "data = []\n",
    "\n",
    "for file_name in DIRECTORY_GLOB_STUFF:\n",
    "    image_vector = SOME_FUNCTION(file_name)\n",
    "    annotation   = lookup(file_name)\n",
    "    data.append( (file_name, image_vector, annotation) )\n",
    "\n",
    "def split(data, train_proportion, restriction = restriction):\n",
    "    ...\n",
    "\n",
    "def data_loader():\n",
    "    \n",
    "    yield ...\n",
    "    \n",
    "\n",
    "train, test = split(data)\n",
    "\n",
    "    \n",
    "    \n",
    "    \n",
    "    \n",
    "    "
   ]
  },
  {
   "cell_type": "markdown",
   "metadata": {},
   "source": [
    "Old idea\n",
    "\n",
    "read the json info file\n",
    "randomize lines\n",
    "if restriction = True; select n_restriction\n",
    "split into TRAIN and TEST\n",
    "\n",
    "for TRAIN goto directory and get files\n",
    "convert files to vectors and store as training data\n",
    "define vectors for training labels (0s and 1s)\n",
    "\n",
    "for TEST goto directory and get files\n",
    "convert files to vectors and store as test data\n",
    "define vectors for test labels (0s and 1s)\n",
    "\n",
    "create data loader; which for every iteration yields examples in random order (perhaps use predefined dataloader)\n",
    "\n",
    "probably use `pandas` for back-tracking reasons\n",
    "note that images are in a directory `images`\n"
   ]
  },
  {
   "cell_type": "markdown",
   "metadata": {},
   "source": [
    "## Part 2: the models"
   ]
  },
  {
   "cell_type": "markdown",
   "metadata": {},
   "source": [
    "### Model 1: ..."
   ]
  },
  {
   "cell_type": "code",
   "execution_count": null,
   "metadata": {},
   "outputs": [],
   "source": [
    "m1_name = \"\""
   ]
  },
  {
   "cell_type": "markdown",
   "metadata": {},
   "source": [
    "#### Model definition"
   ]
  },
  {
   "cell_type": "code",
   "execution_count": null,
   "metadata": {},
   "outputs": [],
   "source": []
  },
  {
   "cell_type": "markdown",
   "metadata": {},
   "source": [
    "#### Training and saving model"
   ]
  },
  {
   "cell_type": "code",
   "execution_count": null,
   "metadata": {},
   "outputs": [],
   "source": []
  },
  {
   "cell_type": "markdown",
   "metadata": {},
   "source": [
    "### Model 2: ..."
   ]
  },
  {
   "cell_type": "code",
   "execution_count": null,
   "metadata": {},
   "outputs": [],
   "source": [
    "m2_name = \"\""
   ]
  },
  {
   "cell_type": "markdown",
   "metadata": {},
   "source": [
    "#### Model definition"
   ]
  },
  {
   "cell_type": "code",
   "execution_count": null,
   "metadata": {},
   "outputs": [],
   "source": []
  },
  {
   "cell_type": "markdown",
   "metadata": {},
   "source": [
    "#### Training and saving model"
   ]
  },
  {
   "cell_type": "code",
   "execution_count": null,
   "metadata": {},
   "outputs": [],
   "source": []
  },
  {
   "cell_type": "markdown",
   "metadata": {},
   "source": [
    "## Part 3: testing and evaluation"
   ]
  },
  {
   "cell_type": "code",
   "execution_count": null,
   "metadata": {},
   "outputs": [],
   "source": []
  }
 ],
 "metadata": {
  "kernelspec": {
   "display_name": "Python 3",
   "language": "python",
   "name": "python3"
  },
  "language_info": {
   "codemirror_mode": {
    "name": "ipython",
    "version": 3
   },
   "file_extension": ".py",
   "mimetype": "text/x-python",
   "name": "python",
   "nbconvert_exporter": "python",
   "pygments_lexer": "ipython3",
   "version": "3.8.5"
  }
 },
 "nbformat": 4,
 "nbformat_minor": 4
}
