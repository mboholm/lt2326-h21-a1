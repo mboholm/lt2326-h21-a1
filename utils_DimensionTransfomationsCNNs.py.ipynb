{
 "cells": [
  {
   "cell_type": "markdown",
   "id": "de4ad1d0",
   "metadata": {},
   "source": [
    "# Transformations of dimensions in convolutional networks"
   ]
  },
  {
   "cell_type": "code",
   "execution_count": null,
   "id": "621fa98d",
   "metadata": {},
   "outputs": [],
   "source": [
    "# formula: [((n+2p-f)/s)+1] X [((n+2p-f)/s)+1]\n",
    "kernel = 16  #16\n",
    "padding = 4  #\n",
    "stride = 8   #\n",
    "\n",
    "for x in [2048, 1024, 256, 128, 32]:\n",
    "    y = (((x+(2*padding))-kernel) / stride)\n",
    "    z = y + 1\n",
    "    print(x, \">>>\", y, z, \"factor\", x/y )"
   ]
  },
  {
   "cell_type": "code",
   "execution_count": null,
   "id": "bb4c85cd",
   "metadata": {},
   "outputs": [],
   "source": [
    "for x in [512, 256, 128, 64, 32]:\n",
    "    print(x, \">>>\", x/(2*2*2)) # 3 max poolings"
   ]
  },
  {
   "cell_type": "code",
   "execution_count": null,
   "id": "8f0d29df",
   "metadata": {},
   "outputs": [],
   "source": [
    "from math import sqrt\n",
    "# Conv2D transpose output shape\n",
    "# out_dim = stride * (in_dim - 1) + kernel - 2 * padding\n",
    "\n",
    "def ct(x, s, k, p, factor):\n",
    "    s = s * factor\n",
    "    k = k * factor\n",
    "    p = p * factor\n",
    "    \n",
    "    return s * (x - 1) + k - 2 * p\n",
    "\n",
    "output = 2048\n",
    "\n",
    "stride = 2\n",
    "kernal = 4\n",
    "padding = 1\n",
    "\n",
    "for x in [32, 16, 8]:\n",
    "    #y = stride * (x - 1) + kernal - 2 * padding\n",
    "    factor=(output/x)/32\n",
    "    print(\"factor\", factor)\n",
    "    y1 = ct(x, stride, kernal, padding, factor)\n",
    "    y2 = ct(y1, stride, kernal, padding, factor)\n",
    "    y3 = ct(y2, stride, kernal, padding, factor)\n",
    "    y4 = ct(y3, stride, kernal, padding, factor)\n",
    "    y5 = ct(y4, stride, kernal, padding, factor)\n",
    "    print(x, \">>1>>\", y1, \">>2>>\", y2, \">>3>>\", y3, \">>4>>\", y4, \">>5>>\", y5)"
   ]
  },
  {
   "cell_type": "code",
   "execution_count": null,
   "id": "92d3e93d",
   "metadata": {},
   "outputs": [],
   "source": [
    "# NON-FACTOR VERSION\n",
    "\n",
    "from math import sqrt\n",
    "# Conv2D transpose output shape\n",
    "# out_dim = stride * (in_dim - 1) + kernal - 2 * padding\n",
    "\n",
    "def ct(x, s, k, p):\n",
    "    return s * (x - 1) + k - 2 * p\n",
    "\n",
    "output = 1024\n",
    "\n",
    "stride = 4  #2\n",
    "kernal = 8  #4\n",
    "padding = 2 #1\n",
    "\n",
    "for x in [64, 128]:\n",
    "    y1 = ct(x, stride, kernal, padding)\n",
    "    y2 = ct(y1, stride, kernal, padding)\n",
    "    y3 = ct(y2, stride, kernal, padding)\n",
    "    y4 = ct(y3, stride, kernal, padding)\n",
    "    print(x, \">>1>>\", y1, \">>2>>\", y2, \">>3>>\", y3, \">>4>>\", y4)"
   ]
  }
 ],
 "metadata": {
  "kernelspec": {
   "display_name": "Python 3 (ipykernel)",
   "language": "python",
   "name": "python3"
  },
  "language_info": {
   "codemirror_mode": {
    "name": "ipython",
    "version": 3
   },
   "file_extension": ".py",
   "mimetype": "text/x-python",
   "name": "python",
   "nbconvert_exporter": "python",
   "pygments_lexer": "ipython3",
   "version": "3.9.6"
  }
 },
 "nbformat": 4,
 "nbformat_minor": 5
}
